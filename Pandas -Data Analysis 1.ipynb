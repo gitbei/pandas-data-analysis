{
 "cells": [
  {
   "cell_type": "markdown",
   "id": "229f13ab",
   "metadata": {},
   "source": [
    "## KAGGLE Course- Pandas most popular Python library for data analysis."
   ]
  },
  {
   "cell_type": "code",
   "execution_count": 1,
   "id": "cfe70285",
   "metadata": {},
   "outputs": [],
   "source": [
    "import pandas as pd"
   ]
  },
  {
   "cell_type": "markdown",
   "id": "fc4d3e91",
   "metadata": {},
   "source": [
    "## Example creating a data frame and series"
   ]
  },
  {
   "cell_type": "code",
   "execution_count": 2,
   "id": "0ba3842b",
   "metadata": {},
   "outputs": [
    {
     "data": {
      "text/plain": [
       "{'Name': ['Nabeel', 'Maslaha', 'Nadeem', 'Jasim'],\n",
       " 'Age': [34, 26, 36, 41],\n",
       " 'Profession': ['Engineer', 'Optometrist', 'Doctor', 'Engineer']}"
      ]
     },
     "execution_count": 2,
     "metadata": {},
     "output_type": "execute_result"
    }
   ],
   "source": [
    "dict1= {'Name':['Nabeel','Maslaha','Nadeem','Jasim'],'Age':[34,26,36,41],'Profession':['Engineer','Optometrist','Doctor','Engineer']}\n",
    "dict1"
   ]
  },
  {
   "cell_type": "code",
   "execution_count": 3,
   "id": "a8729ce7",
   "metadata": {},
   "outputs": [
    {
     "data": {
      "text/plain": [
       "dict_keys(['Name', 'Age', 'Profession'])"
      ]
     },
     "execution_count": 3,
     "metadata": {},
     "output_type": "execute_result"
    }
   ],
   "source": [
    "dict1.keys()"
   ]
  },
  {
   "cell_type": "code",
   "execution_count": 4,
   "id": "23718480",
   "metadata": {},
   "outputs": [
    {
     "data": {
      "text/plain": [
       "dict_values([['Nabeel', 'Maslaha', 'Nadeem', 'Jasim'], [34, 26, 36, 41], ['Engineer', 'Optometrist', 'Doctor', 'Engineer']])"
      ]
     },
     "execution_count": 4,
     "metadata": {},
     "output_type": "execute_result"
    }
   ],
   "source": [
    "dict1.values()"
   ]
  },
  {
   "cell_type": "code",
   "execution_count": 5,
   "id": "6821af5b",
   "metadata": {},
   "outputs": [
    {
     "data": {
      "text/html": [
       "<div>\n",
       "<style scoped>\n",
       "    .dataframe tbody tr th:only-of-type {\n",
       "        vertical-align: middle;\n",
       "    }\n",
       "\n",
       "    .dataframe tbody tr th {\n",
       "        vertical-align: top;\n",
       "    }\n",
       "\n",
       "    .dataframe thead th {\n",
       "        text-align: right;\n",
       "    }\n",
       "</style>\n",
       "<table border=\"1\" class=\"dataframe\">\n",
       "  <thead>\n",
       "    <tr style=\"text-align: right;\">\n",
       "      <th></th>\n",
       "      <th>Name</th>\n",
       "      <th>Age</th>\n",
       "      <th>Profession</th>\n",
       "    </tr>\n",
       "  </thead>\n",
       "  <tbody>\n",
       "    <tr>\n",
       "      <th>0</th>\n",
       "      <td>Nabeel</td>\n",
       "      <td>34</td>\n",
       "      <td>Engineer</td>\n",
       "    </tr>\n",
       "    <tr>\n",
       "      <th>1</th>\n",
       "      <td>Maslaha</td>\n",
       "      <td>26</td>\n",
       "      <td>Optometrist</td>\n",
       "    </tr>\n",
       "    <tr>\n",
       "      <th>2</th>\n",
       "      <td>Nadeem</td>\n",
       "      <td>36</td>\n",
       "      <td>Doctor</td>\n",
       "    </tr>\n",
       "    <tr>\n",
       "      <th>3</th>\n",
       "      <td>Jasim</td>\n",
       "      <td>41</td>\n",
       "      <td>Engineer</td>\n",
       "    </tr>\n",
       "  </tbody>\n",
       "</table>\n",
       "</div>"
      ],
      "text/plain": [
       "      Name  Age   Profession\n",
       "0   Nabeel   34     Engineer\n",
       "1  Maslaha   26  Optometrist\n",
       "2   Nadeem   36       Doctor\n",
       "3    Jasim   41     Engineer"
      ]
     },
     "execution_count": 5,
     "metadata": {},
     "output_type": "execute_result"
    }
   ],
   "source": [
    "df=pd.DataFrame(dict1)\n",
    "df"
   ]
  },
  {
   "cell_type": "markdown",
   "id": "f51543f5",
   "metadata": {},
   "source": [
    "**we can change the index of a data frame as below**"
   ]
  },
  {
   "cell_type": "code",
   "execution_count": 6,
   "id": "1e79d809",
   "metadata": {},
   "outputs": [
    {
     "data": {
      "text/html": [
       "<div>\n",
       "<style scoped>\n",
       "    .dataframe tbody tr th:only-of-type {\n",
       "        vertical-align: middle;\n",
       "    }\n",
       "\n",
       "    .dataframe tbody tr th {\n",
       "        vertical-align: top;\n",
       "    }\n",
       "\n",
       "    .dataframe thead th {\n",
       "        text-align: right;\n",
       "    }\n",
       "</style>\n",
       "<table border=\"1\" class=\"dataframe\">\n",
       "  <thead>\n",
       "    <tr style=\"text-align: right;\">\n",
       "      <th></th>\n",
       "      <th>Name</th>\n",
       "      <th>Age</th>\n",
       "      <th>Profession</th>\n",
       "    </tr>\n",
       "  </thead>\n",
       "  <tbody>\n",
       "    <tr>\n",
       "      <th>ID1</th>\n",
       "      <td>Nabeel</td>\n",
       "      <td>34</td>\n",
       "      <td>Engineer</td>\n",
       "    </tr>\n",
       "    <tr>\n",
       "      <th>ID2</th>\n",
       "      <td>Maslaha</td>\n",
       "      <td>26</td>\n",
       "      <td>Optometrist</td>\n",
       "    </tr>\n",
       "    <tr>\n",
       "      <th>ID3</th>\n",
       "      <td>Nadeem</td>\n",
       "      <td>36</td>\n",
       "      <td>Doctor</td>\n",
       "    </tr>\n",
       "    <tr>\n",
       "      <th>ID4</th>\n",
       "      <td>Jasim</td>\n",
       "      <td>41</td>\n",
       "      <td>Engineer</td>\n",
       "    </tr>\n",
       "  </tbody>\n",
       "</table>\n",
       "</div>"
      ],
      "text/plain": [
       "        Name  Age   Profession\n",
       "ID1   Nabeel   34     Engineer\n",
       "ID2  Maslaha   26  Optometrist\n",
       "ID3   Nadeem   36       Doctor\n",
       "ID4    Jasim   41     Engineer"
      ]
     },
     "execution_count": 6,
     "metadata": {},
     "output_type": "execute_result"
    }
   ],
   "source": [
    "df=pd.DataFrame(dict1,index=['ID1','ID2','ID3','ID4'])\n",
    "df"
   ]
  },
  {
   "cell_type": "code",
   "execution_count": 7,
   "id": "2cd657bb",
   "metadata": {},
   "outputs": [
    {
     "data": {
      "text/plain": [
       "Index(['Name', 'Age', 'Profession'], dtype='object')"
      ]
     },
     "execution_count": 7,
     "metadata": {},
     "output_type": "execute_result"
    }
   ],
   "source": [
    "df.columns"
   ]
  },
  {
   "cell_type": "code",
   "execution_count": 8,
   "id": "7d5670b4",
   "metadata": {},
   "outputs": [
    {
     "data": {
      "text/plain": [
       "ID1     Nabeel\n",
       "ID2    Maslaha\n",
       "ID3     Nadeem\n",
       "ID4      Jasim\n",
       "Name: Name, dtype: object"
      ]
     },
     "execution_count": 8,
     "metadata": {},
     "output_type": "execute_result"
    }
   ],
   "source": [
    "df['Name']"
   ]
  },
  {
   "cell_type": "code",
   "execution_count": 9,
   "id": "fcf13507",
   "metadata": {},
   "outputs": [
    {
     "data": {
      "text/plain": [
       "Name            Nabeel\n",
       "Age                 34\n",
       "Profession    Engineer\n",
       "Name: ID1, dtype: object"
      ]
     },
     "execution_count": 9,
     "metadata": {},
     "output_type": "execute_result"
    }
   ],
   "source": [
    "df.loc['ID1']"
   ]
  },
  {
   "cell_type": "code",
   "execution_count": 10,
   "id": "a62e1189",
   "metadata": {},
   "outputs": [
    {
     "data": {
      "text/plain": [
       "<Axes: >"
      ]
     },
     "execution_count": 10,
     "metadata": {},
     "output_type": "execute_result"
    },
    {
     "data": {
      "image/png": "[encoded data removed]",
      "text/plain": [
       "<Figure size 640x480 with 1 Axes>"
      ]
     },
     "metadata": {},
     "output_type": "display_data"
    }
   ],
   "source": [
    "df['Age'].plot(kind='bar',legend=True)"
   ]
  },
  {
   "cell_type": "code",
   "execution_count": 11,
   "id": "c2847c63",
   "metadata": {},
   "outputs": [
    {
     "data": {
      "text/plain": [
       "pandas.core.frame.DataFrame"
      ]
     },
     "execution_count": 11,
     "metadata": {},
     "output_type": "execute_result"
    }
   ],
   "source": [
    "type(df)"
   ]
  },
  {
   "cell_type": "markdown",
   "id": "a21a8660",
   "metadata": {},
   "source": [
    "**Series**"
   ]
  },
  {
   "cell_type": "code",
   "execution_count": 12,
   "id": "a92f0e55",
   "metadata": {},
   "outputs": [
    {
     "data": {
      "text/plain": [
       "<StringArray>\n",
       "['Hello', 'World', 'My', 'Name', 'is', 'Nabeel']\n",
       "Length: 6, dtype: string"
      ]
     },
     "execution_count": 12,
     "metadata": {},
     "output_type": "execute_result"
    }
   ],
   "source": [
    "arr1 = pd.array(['Hello','World','My','Name','is','Nabeel'])\n",
    "arr1"
   ]
  },
  {
   "cell_type": "code",
   "execution_count": 13,
   "id": "7e471120",
   "metadata": {},
   "outputs": [
    {
     "data": {
      "text/plain": [
       "0     Hello\n",
       "1     World\n",
       "2        My\n",
       "3      Name\n",
       "4        is\n",
       "5    Nabeel\n",
       "dtype: string"
      ]
     },
     "execution_count": 13,
     "metadata": {},
     "output_type": "execute_result"
    }
   ],
   "source": [
    "series1=pd.Series(arr1)\n",
    "series1"
   ]
  },
  {
   "cell_type": "code",
   "execution_count": 14,
   "id": "f3a3d1d5",
   "metadata": {},
   "outputs": [
    {
     "data": {
      "text/plain": [
       "a     Hello\n",
       "b     World\n",
       "c        My\n",
       "d      Name\n",
       "e        is\n",
       "f    Nabeel\n",
       "dtype: string"
      ]
     },
     "execution_count": 14,
     "metadata": {},
     "output_type": "execute_result"
    }
   ],
   "source": [
    "series1=pd.Series(arr1,index=['a','b','c','d','e','f'])\n",
    "series1"
   ]
  },
  {
   "cell_type": "code",
   "execution_count": 15,
   "id": "8d752bb4",
   "metadata": {},
   "outputs": [
    {
     "data": {
      "text/plain": [
       "'Hello'"
      ]
     },
     "execution_count": 15,
     "metadata": {},
     "output_type": "execute_result"
    }
   ],
   "source": [
    "series1.loc['a']"
   ]
  },
  {
   "cell_type": "code",
   "execution_count": 16,
   "id": "f7af4f32",
   "metadata": {
    "scrolled": false
   },
   "outputs": [
    {
     "data": {
      "text/plain": [
       "'Hello'"
      ]
     },
     "execution_count": 16,
     "metadata": {},
     "output_type": "execute_result"
    }
   ],
   "source": [
    "series1['a']"
   ]
  },
  {
   "cell_type": "markdown",
   "id": "8d5c5be3",
   "metadata": {},
   "source": [
    "**However, a Series does not have a column name alike a dataframe, it only has one overall name which can define as below**"
   ]
  },
  {
   "cell_type": "code",
   "execution_count": 17,
   "id": "d0315924",
   "metadata": {},
   "outputs": [
    {
     "data": {
      "text/plain": [
       "a     Hello\n",
       "b     World\n",
       "c        My\n",
       "d      Name\n",
       "e        is\n",
       "f    Nabeel\n",
       "Name: Intro, dtype: string"
      ]
     },
     "execution_count": 17,
     "metadata": {},
     "output_type": "execute_result"
    }
   ],
   "source": [
    "series1=pd.Series(arr1,index=['a','b','c','d','e','f'], name='Intro')\n",
    "series1"
   ]
  },
  {
   "cell_type": "markdown",
   "id": "1a48cec5",
   "metadata": {},
   "source": [
    "## Working with Text data - str.upper(),str.lower(),str.len()"
   ]
  },
  {
   "cell_type": "code",
   "execution_count": 18,
   "id": "bfff7edd",
   "metadata": {},
   "outputs": [],
   "source": [
    "newseries = series1.str.upper()"
   ]
  },
  {
   "cell_type": "code",
   "execution_count": 19,
   "id": "1ecb9903",
   "metadata": {},
   "outputs": [
    {
     "data": {
      "text/plain": [
       "a     HELLO\n",
       "b     WORLD\n",
       "c        MY\n",
       "d      NAME\n",
       "e        IS\n",
       "f    NABEEL\n",
       "Name: Intro, dtype: string"
      ]
     },
     "execution_count": 19,
     "metadata": {},
     "output_type": "execute_result"
    }
   ],
   "source": [
    "newseries"
   ]
  },
  {
   "cell_type": "code",
   "execution_count": 20,
   "id": "f8b4a6eb",
   "metadata": {},
   "outputs": [
    {
     "data": {
      "text/plain": [
       "a     Hello\n",
       "b     World\n",
       "c        My\n",
       "d      Name\n",
       "e        is\n",
       "f    Nabeel\n",
       "Name: Intro, dtype: string"
      ]
     },
     "execution_count": 20,
     "metadata": {},
     "output_type": "execute_result"
    }
   ],
   "source": [
    "series1"
   ]
  },
  {
   "cell_type": "code",
   "execution_count": 21,
   "id": "f9423dbd",
   "metadata": {},
   "outputs": [
    {
     "data": {
      "text/plain": [
       "a     hello\n",
       "b     world\n",
       "c        my\n",
       "d      name\n",
       "e        is\n",
       "f    nabeel\n",
       "Name: Intro, dtype: string"
      ]
     },
     "execution_count": 21,
     "metadata": {},
     "output_type": "execute_result"
    }
   ],
   "source": [
    "series1.str.lower()"
   ]
  },
  {
   "cell_type": "code",
   "execution_count": 22,
   "id": "357a60c7",
   "metadata": {},
   "outputs": [
    {
     "data": {
      "text/plain": [
       "a    5\n",
       "b    5\n",
       "c    2\n",
       "d    4\n",
       "e    2\n",
       "f    6\n",
       "Name: Intro, dtype: Int64"
      ]
     },
     "execution_count": 22,
     "metadata": {},
     "output_type": "execute_result"
    }
   ],
   "source": [
    "series1.str.len()"
   ]
  },
  {
   "cell_type": "markdown",
   "id": "1333fec2",
   "metadata": {},
   "source": []
  },
  {
   "cell_type": "markdown",
   "id": "ec734300",
   "metadata": {},
   "source": [
    "## KAGGLE - EXERCISES"
   ]
  },
  {
   "cell_type": "code",
   "execution_count": 23,
   "id": "534209c0",
   "metadata": {},
   "outputs": [],
   "source": [
    "import pandas as pd"
   ]
  },
  {
   "cell_type": "code",
   "execution_count": 24,
   "id": "480d8f34",
   "metadata": {},
   "outputs": [
    {
     "data": {
      "text/plain": [
       "{'Apples': [30, 20, 40, 67, 76, 34, 65, 22],\n",
       " 'Bananas': [21, 25, 37, 32, 54, 32, 12, 32],\n",
       " 'Mango': [30, 34, 21, 45, 23, 65, 76, 12],\n",
       " 'Watermelon': [23, 54, 'NaN', 53, 'NaN', 23, 21, 43],\n",
       " 'Country': ['India',\n",
       "  'Qatar',\n",
       "  'Africa',\n",
       "  'India',\n",
       "  'UAE',\n",
       "  'France',\n",
       "  'Srilanka',\n",
       "  'Pakistan']}"
      ]
     },
     "execution_count": 24,
     "metadata": {},
     "output_type": "execute_result"
    }
   ],
   "source": [
    "fruits = {'Apples':[30,20,40,67,76,34,65,22],'Bananas':[21,25,37,32,54,32,12,32],'Mango':[30,34,21,45,23,65,76,12],'Watermelon':[23,54,'NaN',53,'NaN',23,21,43],'Country':['India','Qatar','Africa','India','UAE','France','Srilanka','Pakistan']}\n",
    "fruits"
   ]
  },
  {
   "cell_type": "code",
   "execution_count": 25,
   "id": "87d79a81",
   "metadata": {},
   "outputs": [
    {
     "data": {
      "text/html": [
       "<div>\n",
       "<style scoped>\n",
       "    .dataframe tbody tr th:only-of-type {\n",
       "        vertical-align: middle;\n",
       "    }\n",
       "\n",
       "    .dataframe tbody tr th {\n",
       "        vertical-align: top;\n",
       "    }\n",
       "\n",
       "    .dataframe thead th {\n",
       "        text-align: right;\n",
       "    }\n",
       "</style>\n",
       "<table border=\"1\" class=\"dataframe\">\n",
       "  <thead>\n",
       "    <tr style=\"text-align: right;\">\n",
       "      <th></th>\n",
       "      <th>Apples</th>\n",
       "      <th>Bananas</th>\n",
       "      <th>Mango</th>\n",
       "      <th>Watermelon</th>\n",
       "      <th>Country</th>\n",
       "    </tr>\n",
       "  </thead>\n",
       "  <tbody>\n",
       "    <tr>\n",
       "      <th>0</th>\n",
       "      <td>30</td>\n",
       "      <td>21</td>\n",
       "      <td>30</td>\n",
       "      <td>23</td>\n",
       "      <td>India</td>\n",
       "    </tr>\n",
       "    <tr>\n",
       "      <th>1</th>\n",
       "      <td>20</td>\n",
       "      <td>25</td>\n",
       "      <td>34</td>\n",
       "      <td>54</td>\n",
       "      <td>Qatar</td>\n",
       "    </tr>\n",
       "    <tr>\n",
       "      <th>2</th>\n",
       "      <td>40</td>\n",
       "      <td>37</td>\n",
       "      <td>21</td>\n",
       "      <td>NaN</td>\n",
       "      <td>Africa</td>\n",
       "    </tr>\n",
       "    <tr>\n",
       "      <th>3</th>\n",
       "      <td>67</td>\n",
       "      <td>32</td>\n",
       "      <td>45</td>\n",
       "      <td>53</td>\n",
       "      <td>India</td>\n",
       "    </tr>\n",
       "    <tr>\n",
       "      <th>4</th>\n",
       "      <td>76</td>\n",
       "      <td>54</td>\n",
       "      <td>23</td>\n",
       "      <td>NaN</td>\n",
       "      <td>UAE</td>\n",
       "    </tr>\n",
       "    <tr>\n",
       "      <th>5</th>\n",
       "      <td>34</td>\n",
       "      <td>32</td>\n",
       "      <td>65</td>\n",
       "      <td>23</td>\n",
       "      <td>France</td>\n",
       "    </tr>\n",
       "    <tr>\n",
       "      <th>6</th>\n",
       "      <td>65</td>\n",
       "      <td>12</td>\n",
       "      <td>76</td>\n",
       "      <td>21</td>\n",
       "      <td>Srilanka</td>\n",
       "    </tr>\n",
       "    <tr>\n",
       "      <th>7</th>\n",
       "      <td>22</td>\n",
       "      <td>32</td>\n",
       "      <td>12</td>\n",
       "      <td>43</td>\n",
       "      <td>Pakistan</td>\n",
       "    </tr>\n",
       "  </tbody>\n",
       "</table>\n",
       "</div>"
      ],
      "text/plain": [
       "   Apples  Bananas  Mango Watermelon   Country\n",
       "0      30       21     30         23     India\n",
       "1      20       25     34         54     Qatar\n",
       "2      40       37     21        NaN    Africa\n",
       "3      67       32     45         53     India\n",
       "4      76       54     23        NaN       UAE\n",
       "5      34       32     65         23    France\n",
       "6      65       12     76         21  Srilanka\n",
       "7      22       32     12         43  Pakistan"
      ]
     },
     "execution_count": 25,
     "metadata": {},
     "output_type": "execute_result"
    }
   ],
   "source": [
    "fruits = pd.DataFrame(fruits)\n",
    "fruits"
   ]
  },
  {
   "cell_type": "code",
   "execution_count": 26,
   "id": "7c2980b2",
   "metadata": {},
   "outputs": [
    {
     "data": {
      "text/plain": [
       "pandas.core.frame.DataFrame"
      ]
     },
     "execution_count": 26,
     "metadata": {},
     "output_type": "execute_result"
    }
   ],
   "source": [
    "type(fruits)"
   ]
  },
  {
   "cell_type": "code",
   "execution_count": 27,
   "id": "65cad119",
   "metadata": {},
   "outputs": [],
   "source": [
    "fruits.to_csv('fruits_list.csv') #to export the dataframe into a csv file called fruits_list.csv"
   ]
  },
  {
   "cell_type": "code",
   "execution_count": 28,
   "id": "9d76ce74",
   "metadata": {},
   "outputs": [
    {
     "data": {
      "text/plain": [
       "0    30\n",
       "1    20\n",
       "2    40\n",
       "3    67\n",
       "4    76\n",
       "5    34\n",
       "6    65\n",
       "7    22\n",
       "Name: Apples, dtype: int64"
      ]
     },
     "execution_count": 28,
     "metadata": {},
     "output_type": "execute_result"
    }
   ],
   "source": [
    "desc=fruits['Apples']\n",
    "desc"
   ]
  },
  {
   "cell_type": "code",
   "execution_count": 29,
   "id": "b432617b",
   "metadata": {},
   "outputs": [
    {
     "data": {
      "text/plain": [
       "30"
      ]
     },
     "execution_count": 29,
     "metadata": {},
     "output_type": "execute_result"
    }
   ],
   "source": [
    "desc=fruits['Apples'][0]\n",
    "desc"
   ]
  },
  {
   "cell_type": "code",
   "execution_count": 30,
   "id": "415b9844",
   "metadata": {},
   "outputs": [
    {
     "data": {
      "text/plain": [
       "Apples           30\n",
       "Bananas          21\n",
       "Mango            30\n",
       "Watermelon       23\n",
       "Country       India\n",
       "Name: 0, dtype: object"
      ]
     },
     "execution_count": 30,
     "metadata": {},
     "output_type": "execute_result"
    }
   ],
   "source": [
    "first_row=fruits.iloc[0] #selects the first row data from the dataframe\n",
    "first_row"
   ]
  },
  {
   "cell_type": "code",
   "execution_count": 31,
   "id": "c3fef120",
   "metadata": {},
   "outputs": [
    {
     "data": {
      "text/html": [
       "<div>\n",
       "<style scoped>\n",
       "    .dataframe tbody tr th:only-of-type {\n",
       "        vertical-align: middle;\n",
       "    }\n",
       "\n",
       "    .dataframe tbody tr th {\n",
       "        vertical-align: top;\n",
       "    }\n",
       "\n",
       "    .dataframe thead th {\n",
       "        text-align: right;\n",
       "    }\n",
       "</style>\n",
       "<table border=\"1\" class=\"dataframe\">\n",
       "  <thead>\n",
       "    <tr style=\"text-align: right;\">\n",
       "      <th></th>\n",
       "      <th>Apples</th>\n",
       "    </tr>\n",
       "  </thead>\n",
       "  <tbody>\n",
       "    <tr>\n",
       "      <th>0</th>\n",
       "      <td>30</td>\n",
       "    </tr>\n",
       "    <tr>\n",
       "      <th>1</th>\n",
       "      <td>20</td>\n",
       "    </tr>\n",
       "    <tr>\n",
       "      <th>2</th>\n",
       "      <td>40</td>\n",
       "    </tr>\n",
       "    <tr>\n",
       "      <th>3</th>\n",
       "      <td>67</td>\n",
       "    </tr>\n",
       "    <tr>\n",
       "      <th>4</th>\n",
       "      <td>76</td>\n",
       "    </tr>\n",
       "    <tr>\n",
       "      <th>5</th>\n",
       "      <td>34</td>\n",
       "    </tr>\n",
       "    <tr>\n",
       "      <th>6</th>\n",
       "      <td>65</td>\n",
       "    </tr>\n",
       "    <tr>\n",
       "      <th>7</th>\n",
       "      <td>22</td>\n",
       "    </tr>\n",
       "  </tbody>\n",
       "</table>\n",
       "</div>"
      ],
      "text/plain": [
       "   Apples\n",
       "0      30\n",
       "1      20\n",
       "2      40\n",
       "3      67\n",
       "4      76\n",
       "5      34\n",
       "6      65\n",
       "7      22"
      ]
     },
     "execution_count": 31,
     "metadata": {},
     "output_type": "execute_result"
    }
   ],
   "source": [
    "first_row=fruits.iloc[:, 0:1] #select the first column data from the data frame\n",
    "first_row"
   ]
  },
  {
   "cell_type": "code",
   "execution_count": 32,
   "id": "1a75c8e8",
   "metadata": {},
   "outputs": [
    {
     "data": {
      "text/html": [
       "<div>\n",
       "<style scoped>\n",
       "    .dataframe tbody tr th:only-of-type {\n",
       "        vertical-align: middle;\n",
       "    }\n",
       "\n",
       "    .dataframe tbody tr th {\n",
       "        vertical-align: top;\n",
       "    }\n",
       "\n",
       "    .dataframe thead th {\n",
       "        text-align: right;\n",
       "    }\n",
       "</style>\n",
       "<table border=\"1\" class=\"dataframe\">\n",
       "  <thead>\n",
       "    <tr style=\"text-align: right;\">\n",
       "      <th></th>\n",
       "      <th>Apples</th>\n",
       "      <th>Bananas</th>\n",
       "      <th>Mango</th>\n",
       "      <th>Watermelon</th>\n",
       "      <th>Country</th>\n",
       "    </tr>\n",
       "  </thead>\n",
       "  <tbody>\n",
       "    <tr>\n",
       "      <th>0</th>\n",
       "      <td>30</td>\n",
       "      <td>21</td>\n",
       "      <td>30</td>\n",
       "      <td>23</td>\n",
       "      <td>India</td>\n",
       "    </tr>\n",
       "    <tr>\n",
       "      <th>2</th>\n",
       "      <td>40</td>\n",
       "      <td>37</td>\n",
       "      <td>21</td>\n",
       "      <td>NaN</td>\n",
       "      <td>Africa</td>\n",
       "    </tr>\n",
       "    <tr>\n",
       "      <th>3</th>\n",
       "      <td>67</td>\n",
       "      <td>32</td>\n",
       "      <td>45</td>\n",
       "      <td>53</td>\n",
       "      <td>India</td>\n",
       "    </tr>\n",
       "  </tbody>\n",
       "</table>\n",
       "</div>"
      ],
      "text/plain": [
       "   Apples  Bananas  Mango Watermelon Country\n",
       "0      30       21     30         23   India\n",
       "2      40       37     21        NaN  Africa\n",
       "3      67       32     45         53   India"
      ]
     },
     "execution_count": 32,
     "metadata": {},
     "output_type": "execute_result"
    }
   ],
   "source": [
    "indices =[0,2,3] #if you need a specific rows to be fetched from the dataframe\n",
    "sample=fruits.iloc[indices]\n",
    "sample"
   ]
  },
  {
   "cell_type": "markdown",
   "id": "7979f336",
   "metadata": {},
   "source": [
    "## Summary Functions and Maps"
   ]
  },
  {
   "cell_type": "code",
   "execution_count": 33,
   "id": "b549c0f1",
   "metadata": {},
   "outputs": [],
   "source": [
    "import pandas as pd"
   ]
  },
  {
   "cell_type": "code",
   "execution_count": 34,
   "id": "4ac71fd5",
   "metadata": {},
   "outputs": [
    {
     "data": {
      "text/html": [
       "<div>\n",
       "<style scoped>\n",
       "    .dataframe tbody tr th:only-of-type {\n",
       "        vertical-align: middle;\n",
       "    }\n",
       "\n",
       "    .dataframe tbody tr th {\n",
       "        vertical-align: top;\n",
       "    }\n",
       "\n",
       "    .dataframe thead th {\n",
       "        text-align: right;\n",
       "    }\n",
       "</style>\n",
       "<table border=\"1\" class=\"dataframe\">\n",
       "  <thead>\n",
       "    <tr style=\"text-align: right;\">\n",
       "      <th></th>\n",
       "      <th>Apples</th>\n",
       "      <th>Bananas</th>\n",
       "      <th>Mango</th>\n",
       "      <th>Watermelon</th>\n",
       "      <th>Country</th>\n",
       "    </tr>\n",
       "  </thead>\n",
       "  <tbody>\n",
       "    <tr>\n",
       "      <th>0</th>\n",
       "      <td>30</td>\n",
       "      <td>21</td>\n",
       "      <td>30</td>\n",
       "      <td>23</td>\n",
       "      <td>India</td>\n",
       "    </tr>\n",
       "    <tr>\n",
       "      <th>1</th>\n",
       "      <td>20</td>\n",
       "      <td>25</td>\n",
       "      <td>34</td>\n",
       "      <td>54</td>\n",
       "      <td>Qatar</td>\n",
       "    </tr>\n",
       "    <tr>\n",
       "      <th>2</th>\n",
       "      <td>40</td>\n",
       "      <td>37</td>\n",
       "      <td>21</td>\n",
       "      <td>NaN</td>\n",
       "      <td>Africa</td>\n",
       "    </tr>\n",
       "    <tr>\n",
       "      <th>3</th>\n",
       "      <td>67</td>\n",
       "      <td>32</td>\n",
       "      <td>45</td>\n",
       "      <td>53</td>\n",
       "      <td>India</td>\n",
       "    </tr>\n",
       "    <tr>\n",
       "      <th>4</th>\n",
       "      <td>76</td>\n",
       "      <td>54</td>\n",
       "      <td>23</td>\n",
       "      <td>NaN</td>\n",
       "      <td>UAE</td>\n",
       "    </tr>\n",
       "    <tr>\n",
       "      <th>5</th>\n",
       "      <td>34</td>\n",
       "      <td>32</td>\n",
       "      <td>65</td>\n",
       "      <td>23</td>\n",
       "      <td>France</td>\n",
       "    </tr>\n",
       "    <tr>\n",
       "      <th>6</th>\n",
       "      <td>65</td>\n",
       "      <td>12</td>\n",
       "      <td>76</td>\n",
       "      <td>21</td>\n",
       "      <td>Srilanka</td>\n",
       "    </tr>\n",
       "    <tr>\n",
       "      <th>7</th>\n",
       "      <td>22</td>\n",
       "      <td>32</td>\n",
       "      <td>12</td>\n",
       "      <td>43</td>\n",
       "      <td>Pakistan</td>\n",
       "    </tr>\n",
       "  </tbody>\n",
       "</table>\n",
       "</div>"
      ],
      "text/plain": [
       "   Apples  Bananas  Mango Watermelon   Country\n",
       "0      30       21     30         23     India\n",
       "1      20       25     34         54     Qatar\n",
       "2      40       37     21        NaN    Africa\n",
       "3      67       32     45         53     India\n",
       "4      76       54     23        NaN       UAE\n",
       "5      34       32     65         23    France\n",
       "6      65       12     76         21  Srilanka\n",
       "7      22       32     12         43  Pakistan"
      ]
     },
     "execution_count": 34,
     "metadata": {},
     "output_type": "execute_result"
    }
   ],
   "source": [
    "fruits"
   ]
  },
  {
   "cell_type": "code",
   "execution_count": 35,
   "id": "2d042b85",
   "metadata": {},
   "outputs": [
    {
     "data": {
      "text/plain": [
       "count     8.000000\n",
       "mean     44.250000\n",
       "std      21.926826\n",
       "min      20.000000\n",
       "25%      28.000000\n",
       "50%      37.000000\n",
       "75%      65.500000\n",
       "max      76.000000\n",
       "Name: Apples, dtype: float64"
      ]
     },
     "execution_count": 35,
     "metadata": {},
     "output_type": "execute_result"
    }
   ],
   "source": [
    "#this generates a high-level summary of the attributes of the given column. \n",
    "#It is type-aware, meaning that its output changes based on the data type of the input\n",
    "fruits.Apples.describe() "
   ]
  },
  {
   "cell_type": "code",
   "execution_count": 36,
   "id": "2ad44ff5",
   "metadata": {},
   "outputs": [
    {
     "data": {
      "text/plain": [
       "count         8\n",
       "unique        7\n",
       "top       India\n",
       "freq          2\n",
       "Name: Country, dtype: object"
      ]
     },
     "execution_count": 36,
     "metadata": {},
     "output_type": "execute_result"
    }
   ],
   "source": [
    "fruits.Country.describe() "
   ]
  },
  {
   "cell_type": "code",
   "execution_count": 37,
   "id": "4af74f0a",
   "metadata": {},
   "outputs": [],
   "source": [
    "#we can use to get specific outputs instead of summary"
   ]
  },
  {
   "cell_type": "code",
   "execution_count": 38,
   "id": "70141ad2",
   "metadata": {},
   "outputs": [
    {
     "data": {
      "text/plain": [
       "354"
      ]
     },
     "execution_count": 38,
     "metadata": {},
     "output_type": "execute_result"
    }
   ],
   "source": [
    "fruits.Apples.sum()"
   ]
  },
  {
   "cell_type": "code",
   "execution_count": 39,
   "id": "80a562f5",
   "metadata": {},
   "outputs": [
    {
     "data": {
      "text/plain": [
       "array(['India', 'Qatar', 'Africa', 'UAE', 'France', 'Srilanka',\n",
       "       'Pakistan'], dtype=object)"
      ]
     },
     "execution_count": 39,
     "metadata": {},
     "output_type": "execute_result"
    }
   ],
   "source": [
    "fruits.Country.unique()"
   ]
  },
  {
   "cell_type": "code",
   "execution_count": 40,
   "id": "c9306f7c",
   "metadata": {},
   "outputs": [
    {
     "data": {
      "text/plain": [
       "32    3\n",
       "21    1\n",
       "25    1\n",
       "37    1\n",
       "54    1\n",
       "12    1\n",
       "Name: Bananas, dtype: int64"
      ]
     },
     "execution_count": 40,
     "metadata": {},
     "output_type": "execute_result"
    }
   ],
   "source": [
    "fruits.Bananas.value_counts()"
   ]
  },
  {
   "cell_type": "code",
   "execution_count": 41,
   "id": "b7adee68",
   "metadata": {},
   "outputs": [
    {
     "data": {
      "text/plain": [
       "44.25"
      ]
     },
     "execution_count": 41,
     "metadata": {},
     "output_type": "execute_result"
    }
   ],
   "source": [
    "fruits.Apples.mean()"
   ]
  },
  {
   "cell_type": "markdown",
   "id": "5b13ab2b",
   "metadata": {},
   "source": [
    "## MAPS\n",
    "A map is a term, borrowed from mathematics, for a function that takes one set of values and \"maps\" them to another set of values. In data science we often have a need for creating new representations from existing data, or for transforming data from the format it is in now to the format that we want it to be in later. Maps are what handle this work, making them extremely important for getting your work done!"
   ]
  },
  {
   "cell_type": "code",
   "execution_count": 42,
   "id": "d9620113",
   "metadata": {},
   "outputs": [
    {
     "data": {
      "text/html": [
       "<div>\n",
       "<style scoped>\n",
       "    .dataframe tbody tr th:only-of-type {\n",
       "        vertical-align: middle;\n",
       "    }\n",
       "\n",
       "    .dataframe tbody tr th {\n",
       "        vertical-align: top;\n",
       "    }\n",
       "\n",
       "    .dataframe thead th {\n",
       "        text-align: right;\n",
       "    }\n",
       "</style>\n",
       "<table border=\"1\" class=\"dataframe\">\n",
       "  <thead>\n",
       "    <tr style=\"text-align: right;\">\n",
       "      <th></th>\n",
       "      <th>Apples</th>\n",
       "    </tr>\n",
       "  </thead>\n",
       "  <tbody>\n",
       "    <tr>\n",
       "      <th>0</th>\n",
       "      <td>30</td>\n",
       "    </tr>\n",
       "    <tr>\n",
       "      <th>1</th>\n",
       "      <td>20</td>\n",
       "    </tr>\n",
       "    <tr>\n",
       "      <th>2</th>\n",
       "      <td>40</td>\n",
       "    </tr>\n",
       "    <tr>\n",
       "      <th>3</th>\n",
       "      <td>67</td>\n",
       "    </tr>\n",
       "    <tr>\n",
       "      <th>4</th>\n",
       "      <td>76</td>\n",
       "    </tr>\n",
       "    <tr>\n",
       "      <th>5</th>\n",
       "      <td>34</td>\n",
       "    </tr>\n",
       "    <tr>\n",
       "      <th>6</th>\n",
       "      <td>65</td>\n",
       "    </tr>\n",
       "    <tr>\n",
       "      <th>7</th>\n",
       "      <td>22</td>\n",
       "    </tr>\n",
       "  </tbody>\n",
       "</table>\n",
       "</div>"
      ],
      "text/plain": [
       "   Apples\n",
       "0      30\n",
       "1      20\n",
       "2      40\n",
       "3      67\n",
       "4      76\n",
       "5      34\n",
       "6      65\n",
       "7      22"
      ]
     },
     "execution_count": 42,
     "metadata": {},
     "output_type": "execute_result"
    }
   ],
   "source": [
    "fruits.iloc[:,0:1]"
   ]
  },
  {
   "cell_type": "code",
   "execution_count": 43,
   "id": "24ea9774",
   "metadata": {},
   "outputs": [
    {
     "data": {
      "text/plain": [
       "0   -14.25\n",
       "1   -24.25\n",
       "2    -4.25\n",
       "3    22.75\n",
       "4    31.75\n",
       "5   -10.25\n",
       "6    20.75\n",
       "7   -22.25\n",
       "Name: Apples, dtype: float64"
      ]
     },
     "execution_count": 43,
     "metadata": {},
     "output_type": "execute_result"
    }
   ],
   "source": [
    "apples_mean=fruits.Apples.mean()\n",
    "fruits.Apples.map(lambda p: p -apples_mean)\n",
    "#For each element 'p' in the 'Apples' column, it subtracts the mean value (apples_mean) from that element.\n",
    "#The result of this operation is a new Series where each element is the original 'Apples' value minus the mean value."
   ]
  },
  {
   "cell_type": "markdown",
   "id": "7c14b92b",
   "metadata": {},
   "source": [
    "**Note - This new Series that represents the deviation of each 'Apples' value from the mean. \n",
    "This can be useful in various data analysis tasks, \n",
    "especially when you want to analyze the deviation of data points \n",
    "from the mean or when you want to remove the mean effect from the data.**"
   ]
  },
  {
   "cell_type": "code",
   "execution_count": 44,
   "id": "19687673",
   "metadata": {},
   "outputs": [
    {
     "data": {
      "text/plain": [
       "0   -14.25\n",
       "1   -24.25\n",
       "2    -4.25\n",
       "3    22.75\n",
       "4    31.75\n",
       "5   -10.25\n",
       "6    20.75\n",
       "7   -22.25\n",
       "Name: Apples, dtype: float64"
      ]
     },
     "execution_count": 44,
     "metadata": {},
     "output_type": "execute_result"
    }
   ],
   "source": [
    "#another of finding the same result\n",
    "cen=fruits.Apples - fruits.Apples.mean()\n",
    "cen"
   ]
  },
  {
   "cell_type": "markdown",
   "id": "de556e18",
   "metadata": {},
   "source": [
    "## GROUP BY"
   ]
  },
  {
   "cell_type": "code",
   "execution_count": 45,
   "id": "1a7d5a71",
   "metadata": {},
   "outputs": [
    {
     "data": {
      "text/plain": [
       "Bananas\n",
       "12    1\n",
       "21    1\n",
       "25    1\n",
       "32    3\n",
       "37    1\n",
       "54    1\n",
       "dtype: int64"
      ]
     },
     "execution_count": 45,
     "metadata": {},
     "output_type": "execute_result"
    }
   ],
   "source": [
    "fruits.groupby('Bananas').size()"
   ]
  },
  {
   "cell_type": "code",
   "execution_count": 46,
   "id": "68f9c5dd",
   "metadata": {},
   "outputs": [
    {
     "data": {
      "text/plain": [
       "32    3\n",
       "21    1\n",
       "25    1\n",
       "37    1\n",
       "54    1\n",
       "12    1\n",
       "Name: Bananas, dtype: int64"
      ]
     },
     "execution_count": 46,
     "metadata": {},
     "output_type": "execute_result"
    }
   ],
   "source": [
    "fruits.Bananas.value_counts()"
   ]
  },
  {
   "cell_type": "code",
   "execution_count": 47,
   "id": "edcf3e9c",
   "metadata": {},
   "outputs": [
    {
     "data": {
      "text/plain": [
       "3"
      ]
     },
     "execution_count": 47,
     "metadata": {},
     "output_type": "execute_result"
    }
   ],
   "source": [
    "fruits.groupby('Bananas').size().max()"
   ]
  },
  {
   "cell_type": "code",
   "execution_count": 48,
   "id": "82e8fec5",
   "metadata": {},
   "outputs": [
    {
     "data": {
      "text/html": [
       "<div>\n",
       "<style scoped>\n",
       "    .dataframe tbody tr th:only-of-type {\n",
       "        vertical-align: middle;\n",
       "    }\n",
       "\n",
       "    .dataframe tbody tr th {\n",
       "        vertical-align: top;\n",
       "    }\n",
       "\n",
       "    .dataframe thead th {\n",
       "        text-align: right;\n",
       "    }\n",
       "</style>\n",
       "<table border=\"1\" class=\"dataframe\">\n",
       "  <thead>\n",
       "    <tr style=\"text-align: right;\">\n",
       "      <th></th>\n",
       "      <th>Apples</th>\n",
       "      <th>Bananas</th>\n",
       "      <th>Mango</th>\n",
       "      <th>Watermelon</th>\n",
       "      <th>Country</th>\n",
       "    </tr>\n",
       "  </thead>\n",
       "  <tbody>\n",
       "    <tr>\n",
       "      <th>0</th>\n",
       "      <td>30</td>\n",
       "      <td>21</td>\n",
       "      <td>30</td>\n",
       "      <td>23</td>\n",
       "      <td>India</td>\n",
       "    </tr>\n",
       "    <tr>\n",
       "      <th>1</th>\n",
       "      <td>20</td>\n",
       "      <td>25</td>\n",
       "      <td>34</td>\n",
       "      <td>54</td>\n",
       "      <td>Qatar</td>\n",
       "    </tr>\n",
       "    <tr>\n",
       "      <th>2</th>\n",
       "      <td>40</td>\n",
       "      <td>37</td>\n",
       "      <td>21</td>\n",
       "      <td>NaN</td>\n",
       "      <td>Africa</td>\n",
       "    </tr>\n",
       "    <tr>\n",
       "      <th>3</th>\n",
       "      <td>67</td>\n",
       "      <td>32</td>\n",
       "      <td>45</td>\n",
       "      <td>53</td>\n",
       "      <td>India</td>\n",
       "    </tr>\n",
       "    <tr>\n",
       "      <th>4</th>\n",
       "      <td>76</td>\n",
       "      <td>54</td>\n",
       "      <td>23</td>\n",
       "      <td>NaN</td>\n",
       "      <td>UAE</td>\n",
       "    </tr>\n",
       "    <tr>\n",
       "      <th>5</th>\n",
       "      <td>34</td>\n",
       "      <td>32</td>\n",
       "      <td>65</td>\n",
       "      <td>23</td>\n",
       "      <td>France</td>\n",
       "    </tr>\n",
       "    <tr>\n",
       "      <th>6</th>\n",
       "      <td>65</td>\n",
       "      <td>12</td>\n",
       "      <td>76</td>\n",
       "      <td>21</td>\n",
       "      <td>Srilanka</td>\n",
       "    </tr>\n",
       "    <tr>\n",
       "      <th>7</th>\n",
       "      <td>22</td>\n",
       "      <td>32</td>\n",
       "      <td>12</td>\n",
       "      <td>43</td>\n",
       "      <td>Pakistan</td>\n",
       "    </tr>\n",
       "  </tbody>\n",
       "</table>\n",
       "</div>"
      ],
      "text/plain": [
       "   Apples  Bananas  Mango Watermelon   Country\n",
       "0      30       21     30         23     India\n",
       "1      20       25     34         54     Qatar\n",
       "2      40       37     21        NaN    Africa\n",
       "3      67       32     45         53     India\n",
       "4      76       54     23        NaN       UAE\n",
       "5      34       32     65         23    France\n",
       "6      65       12     76         21  Srilanka\n",
       "7      22       32     12         43  Pakistan"
      ]
     },
     "execution_count": 48,
     "metadata": {},
     "output_type": "execute_result"
    }
   ],
   "source": [
    "fruits"
   ]
  },
  {
   "cell_type": "code",
   "execution_count": 49,
   "id": "3622167d",
   "metadata": {},
   "outputs": [
    {
     "data": {
      "text/plain": [
       "(8, 5)"
      ]
     },
     "execution_count": 49,
     "metadata": {},
     "output_type": "execute_result"
    }
   ],
   "source": [
    "fruits.shape"
   ]
  },
  {
   "cell_type": "code",
   "execution_count": 50,
   "id": "9ab59e9c",
   "metadata": {},
   "outputs": [
    {
     "data": {
      "text/plain": [
       "8"
      ]
     },
     "execution_count": 50,
     "metadata": {},
     "output_type": "execute_result"
    }
   ],
   "source": [
    "fruits.shape[0]"
   ]
  },
  {
   "cell_type": "code",
   "execution_count": 51,
   "id": "d0dec9e9",
   "metadata": {},
   "outputs": [
    {
     "data": {
      "text/plain": [
       "5"
      ]
     },
     "execution_count": 51,
     "metadata": {},
     "output_type": "execute_result"
    }
   ],
   "source": [
    "fruits.shape[1]"
   ]
  },
  {
   "cell_type": "code",
   "execution_count": 52,
   "id": "2b6a1846",
   "metadata": {},
   "outputs": [
    {
     "name": "stdout",
     "output_type": "stream",
     "text": [
      "<class 'pandas.core.frame.DataFrame'>\n",
      "RangeIndex: 8 entries, 0 to 7\n",
      "Data columns (total 5 columns):\n",
      " #   Column      Non-Null Count  Dtype \n",
      "---  ------      --------------  ----- \n",
      " 0   Apples      8 non-null      int64 \n",
      " 1   Bananas     8 non-null      int64 \n",
      " 2   Mango       8 non-null      int64 \n",
      " 3   Watermelon  8 non-null      object\n",
      " 4   Country     8 non-null      object\n",
      "dtypes: int64(3), object(2)\n",
      "memory usage: 452.0+ bytes\n"
     ]
    }
   ],
   "source": [
    "fruits.info()"
   ]
  },
  {
   "cell_type": "code",
   "execution_count": 53,
   "id": "6465dc56",
   "metadata": {},
   "outputs": [
    {
     "data": {
      "text/html": [
       "<div>\n",
       "<style scoped>\n",
       "    .dataframe tbody tr th:only-of-type {\n",
       "        vertical-align: middle;\n",
       "    }\n",
       "\n",
       "    .dataframe tbody tr th {\n",
       "        vertical-align: top;\n",
       "    }\n",
       "\n",
       "    .dataframe thead th {\n",
       "        text-align: right;\n",
       "    }\n",
       "</style>\n",
       "<table border=\"1\" class=\"dataframe\">\n",
       "  <thead>\n",
       "    <tr style=\"text-align: right;\">\n",
       "      <th></th>\n",
       "      <th>Apples</th>\n",
       "      <th>Bananas</th>\n",
       "      <th>Mango</th>\n",
       "    </tr>\n",
       "  </thead>\n",
       "  <tbody>\n",
       "    <tr>\n",
       "      <th>count</th>\n",
       "      <td>8.000000</td>\n",
       "      <td>8.000000</td>\n",
       "      <td>8.000000</td>\n",
       "    </tr>\n",
       "    <tr>\n",
       "      <th>mean</th>\n",
       "      <td>44.250000</td>\n",
       "      <td>30.625000</td>\n",
       "      <td>38.250000</td>\n",
       "    </tr>\n",
       "    <tr>\n",
       "      <th>std</th>\n",
       "      <td>21.926826</td>\n",
       "      <td>12.328104</td>\n",
       "      <td>22.333511</td>\n",
       "    </tr>\n",
       "    <tr>\n",
       "      <th>min</th>\n",
       "      <td>20.000000</td>\n",
       "      <td>12.000000</td>\n",
       "      <td>12.000000</td>\n",
       "    </tr>\n",
       "    <tr>\n",
       "      <th>25%</th>\n",
       "      <td>28.000000</td>\n",
       "      <td>24.000000</td>\n",
       "      <td>22.500000</td>\n",
       "    </tr>\n",
       "    <tr>\n",
       "      <th>50%</th>\n",
       "      <td>37.000000</td>\n",
       "      <td>32.000000</td>\n",
       "      <td>32.000000</td>\n",
       "    </tr>\n",
       "    <tr>\n",
       "      <th>75%</th>\n",
       "      <td>65.500000</td>\n",
       "      <td>33.250000</td>\n",
       "      <td>50.000000</td>\n",
       "    </tr>\n",
       "    <tr>\n",
       "      <th>max</th>\n",
       "      <td>76.000000</td>\n",
       "      <td>54.000000</td>\n",
       "      <td>76.000000</td>\n",
       "    </tr>\n",
       "  </tbody>\n",
       "</table>\n",
       "</div>"
      ],
      "text/plain": [
       "          Apples    Bananas      Mango\n",
       "count   8.000000   8.000000   8.000000\n",
       "mean   44.250000  30.625000  38.250000\n",
       "std    21.926826  12.328104  22.333511\n",
       "min    20.000000  12.000000  12.000000\n",
       "25%    28.000000  24.000000  22.500000\n",
       "50%    37.000000  32.000000  32.000000\n",
       "75%    65.500000  33.250000  50.000000\n",
       "max    76.000000  54.000000  76.000000"
      ]
     },
     "execution_count": 53,
     "metadata": {},
     "output_type": "execute_result"
    }
   ],
   "source": [
    "fruits.describe()"
   ]
  },
  {
   "cell_type": "markdown",
   "id": "eef1b875",
   "metadata": {},
   "source": [
    "## Dtype - The data type for a column in a DataFrame or a Series is known as the dtype."
   ]
  },
  {
   "cell_type": "code",
   "execution_count": 54,
   "id": "aad41999",
   "metadata": {},
   "outputs": [],
   "source": [
    "import pandas as pd"
   ]
  },
  {
   "cell_type": "code",
   "execution_count": 55,
   "id": "63cf1de9",
   "metadata": {},
   "outputs": [
    {
     "data": {
      "text/html": [
       "<div>\n",
       "<style scoped>\n",
       "    .dataframe tbody tr th:only-of-type {\n",
       "        vertical-align: middle;\n",
       "    }\n",
       "\n",
       "    .dataframe tbody tr th {\n",
       "        vertical-align: top;\n",
       "    }\n",
       "\n",
       "    .dataframe thead th {\n",
       "        text-align: right;\n",
       "    }\n",
       "</style>\n",
       "<table border=\"1\" class=\"dataframe\">\n",
       "  <thead>\n",
       "    <tr style=\"text-align: right;\">\n",
       "      <th></th>\n",
       "      <th>Apples</th>\n",
       "      <th>Bananas</th>\n",
       "      <th>Mango</th>\n",
       "      <th>Watermelon</th>\n",
       "      <th>Country</th>\n",
       "    </tr>\n",
       "  </thead>\n",
       "  <tbody>\n",
       "    <tr>\n",
       "      <th>0</th>\n",
       "      <td>30</td>\n",
       "      <td>21</td>\n",
       "      <td>30</td>\n",
       "      <td>23</td>\n",
       "      <td>India</td>\n",
       "    </tr>\n",
       "    <tr>\n",
       "      <th>1</th>\n",
       "      <td>20</td>\n",
       "      <td>25</td>\n",
       "      <td>34</td>\n",
       "      <td>54</td>\n",
       "      <td>Qatar</td>\n",
       "    </tr>\n",
       "    <tr>\n",
       "      <th>2</th>\n",
       "      <td>40</td>\n",
       "      <td>37</td>\n",
       "      <td>21</td>\n",
       "      <td>NaN</td>\n",
       "      <td>Africa</td>\n",
       "    </tr>\n",
       "    <tr>\n",
       "      <th>3</th>\n",
       "      <td>67</td>\n",
       "      <td>32</td>\n",
       "      <td>45</td>\n",
       "      <td>53</td>\n",
       "      <td>India</td>\n",
       "    </tr>\n",
       "    <tr>\n",
       "      <th>4</th>\n",
       "      <td>76</td>\n",
       "      <td>54</td>\n",
       "      <td>23</td>\n",
       "      <td>NaN</td>\n",
       "      <td>UAE</td>\n",
       "    </tr>\n",
       "    <tr>\n",
       "      <th>5</th>\n",
       "      <td>34</td>\n",
       "      <td>32</td>\n",
       "      <td>65</td>\n",
       "      <td>23</td>\n",
       "      <td>France</td>\n",
       "    </tr>\n",
       "    <tr>\n",
       "      <th>6</th>\n",
       "      <td>65</td>\n",
       "      <td>12</td>\n",
       "      <td>76</td>\n",
       "      <td>21</td>\n",
       "      <td>Srilanka</td>\n",
       "    </tr>\n",
       "    <tr>\n",
       "      <th>7</th>\n",
       "      <td>22</td>\n",
       "      <td>32</td>\n",
       "      <td>12</td>\n",
       "      <td>43</td>\n",
       "      <td>Pakistan</td>\n",
       "    </tr>\n",
       "  </tbody>\n",
       "</table>\n",
       "</div>"
      ],
      "text/plain": [
       "   Apples  Bananas  Mango Watermelon   Country\n",
       "0      30       21     30         23     India\n",
       "1      20       25     34         54     Qatar\n",
       "2      40       37     21        NaN    Africa\n",
       "3      67       32     45         53     India\n",
       "4      76       54     23        NaN       UAE\n",
       "5      34       32     65         23    France\n",
       "6      65       12     76         21  Srilanka\n",
       "7      22       32     12         43  Pakistan"
      ]
     },
     "execution_count": 55,
     "metadata": {},
     "output_type": "execute_result"
    }
   ],
   "source": [
    "fruits"
   ]
  },
  {
   "cell_type": "markdown",
   "id": "0134ede8",
   "metadata": {},
   "source": [
    "**dtype and dtypes**"
   ]
  },
  {
   "cell_type": "code",
   "execution_count": 56,
   "id": "182ae1f8",
   "metadata": {},
   "outputs": [
    {
     "data": {
      "text/plain": [
       "dtype('int64')"
      ]
     },
     "execution_count": 56,
     "metadata": {},
     "output_type": "execute_result"
    }
   ],
   "source": [
    "fruits.Apples.dtype"
   ]
  },
  {
   "cell_type": "code",
   "execution_count": 57,
   "id": "21bd45d5",
   "metadata": {},
   "outputs": [
    {
     "data": {
      "text/plain": [
       "Apples         int64\n",
       "Bananas        int64\n",
       "Mango          int64\n",
       "Watermelon    object\n",
       "Country       object\n",
       "dtype: object"
      ]
     },
     "execution_count": 57,
     "metadata": {},
     "output_type": "execute_result"
    }
   ],
   "source": [
    "fruits.dtypes"
   ]
  },
  {
   "cell_type": "markdown",
   "id": "932d6855",
   "metadata": {},
   "source": [
    "**Data types tell us something about how pandas is storing the data internally. float64 means that it's using a 64-bit floating point number; int64 means a similarly sized integer instead, and so on.\n",
    "One peculiarity to keep in mind (and on display very clearly here) is that columns consisting entirely of strings do not get their own type; they are instead given the object type.**"
   ]
  },
  {
   "cell_type": "code",
   "execution_count": 58,
   "id": "ede106d4",
   "metadata": {},
   "outputs": [
    {
     "data": {
      "text/plain": [
       "dtype('O')"
      ]
     },
     "execution_count": 58,
     "metadata": {},
     "output_type": "execute_result"
    }
   ],
   "source": [
    "fruits.Country.dtype"
   ]
  },
  {
   "cell_type": "code",
   "execution_count": 59,
   "id": "3825e5d9",
   "metadata": {},
   "outputs": [
    {
     "data": {
      "text/plain": [
       "dtype('int64')"
      ]
     },
     "execution_count": 59,
     "metadata": {},
     "output_type": "execute_result"
    }
   ],
   "source": [
    "fruits.Bananas.dtype"
   ]
  },
  {
   "cell_type": "markdown",
   "id": "f6be5f47",
   "metadata": {},
   "source": [
    "**Note- It's possible to convert a column of one type into another wherever such a conversion makes sense by using the astype() function**"
   ]
  },
  {
   "cell_type": "code",
   "execution_count": 60,
   "id": "ee0d5b07",
   "metadata": {},
   "outputs": [
    {
     "data": {
      "text/plain": [
       "dtype('int64')"
      ]
     },
     "execution_count": 60,
     "metadata": {},
     "output_type": "execute_result"
    }
   ],
   "source": [
    "fruits.Mango.dtype"
   ]
  },
  {
   "cell_type": "code",
   "execution_count": 61,
   "id": "3d2f9774",
   "metadata": {},
   "outputs": [
    {
     "data": {
      "text/plain": [
       "0    30.0\n",
       "1    34.0\n",
       "2    21.0\n",
       "3    45.0\n",
       "4    23.0\n",
       "5    65.0\n",
       "6    76.0\n",
       "7    12.0\n",
       "Name: Mango, dtype: float64"
      ]
     },
     "execution_count": 61,
     "metadata": {},
     "output_type": "execute_result"
    }
   ],
   "source": [
    "fruits.Mango.astype('float64')"
   ]
  },
  {
   "cell_type": "markdown",
   "id": "6ff2a12f",
   "metadata": {},
   "source": [
    "## Missing Data\n",
    "\n",
    "**Entries missing values are given the value NaN, short for \"Not a Number\". For technical reasons these NaN values are always of the float64 dtype.**"
   ]
  },
  {
   "cell_type": "code",
   "execution_count": 62,
   "id": "3dbb6c3a",
   "metadata": {},
   "outputs": [
    {
     "data": {
      "text/html": [
       "<div>\n",
       "<style scoped>\n",
       "    .dataframe tbody tr th:only-of-type {\n",
       "        vertical-align: middle;\n",
       "    }\n",
       "\n",
       "    .dataframe tbody tr th {\n",
       "        vertical-align: top;\n",
       "    }\n",
       "\n",
       "    .dataframe thead th {\n",
       "        text-align: right;\n",
       "    }\n",
       "</style>\n",
       "<table border=\"1\" class=\"dataframe\">\n",
       "  <thead>\n",
       "    <tr style=\"text-align: right;\">\n",
       "      <th></th>\n",
       "      <th>Apples</th>\n",
       "      <th>Bananas</th>\n",
       "      <th>Mango</th>\n",
       "      <th>Watermelon</th>\n",
       "      <th>Country</th>\n",
       "    </tr>\n",
       "  </thead>\n",
       "  <tbody>\n",
       "    <tr>\n",
       "      <th>0</th>\n",
       "      <td>30</td>\n",
       "      <td>21</td>\n",
       "      <td>30</td>\n",
       "      <td>23</td>\n",
       "      <td>India</td>\n",
       "    </tr>\n",
       "    <tr>\n",
       "      <th>1</th>\n",
       "      <td>20</td>\n",
       "      <td>25</td>\n",
       "      <td>34</td>\n",
       "      <td>54</td>\n",
       "      <td>Qatar</td>\n",
       "    </tr>\n",
       "    <tr>\n",
       "      <th>2</th>\n",
       "      <td>40</td>\n",
       "      <td>37</td>\n",
       "      <td>21</td>\n",
       "      <td>NaN</td>\n",
       "      <td>Africa</td>\n",
       "    </tr>\n",
       "    <tr>\n",
       "      <th>3</th>\n",
       "      <td>67</td>\n",
       "      <td>32</td>\n",
       "      <td>45</td>\n",
       "      <td>53</td>\n",
       "      <td>India</td>\n",
       "    </tr>\n",
       "    <tr>\n",
       "      <th>4</th>\n",
       "      <td>76</td>\n",
       "      <td>54</td>\n",
       "      <td>23</td>\n",
       "      <td>NaN</td>\n",
       "      <td>UAE</td>\n",
       "    </tr>\n",
       "    <tr>\n",
       "      <th>5</th>\n",
       "      <td>34</td>\n",
       "      <td>32</td>\n",
       "      <td>65</td>\n",
       "      <td>23</td>\n",
       "      <td>France</td>\n",
       "    </tr>\n",
       "    <tr>\n",
       "      <th>6</th>\n",
       "      <td>65</td>\n",
       "      <td>12</td>\n",
       "      <td>76</td>\n",
       "      <td>21</td>\n",
       "      <td>Srilanka</td>\n",
       "    </tr>\n",
       "    <tr>\n",
       "      <th>7</th>\n",
       "      <td>22</td>\n",
       "      <td>32</td>\n",
       "      <td>12</td>\n",
       "      <td>43</td>\n",
       "      <td>Pakistan</td>\n",
       "    </tr>\n",
       "  </tbody>\n",
       "</table>\n",
       "</div>"
      ],
      "text/plain": [
       "   Apples  Bananas  Mango Watermelon   Country\n",
       "0      30       21     30         23     India\n",
       "1      20       25     34         54     Qatar\n",
       "2      40       37     21        NaN    Africa\n",
       "3      67       32     45         53     India\n",
       "4      76       54     23        NaN       UAE\n",
       "5      34       32     65         23    France\n",
       "6      65       12     76         21  Srilanka\n",
       "7      22       32     12         43  Pakistan"
      ]
     },
     "execution_count": 62,
     "metadata": {},
     "output_type": "execute_result"
    }
   ],
   "source": [
    "fruits"
   ]
  },
  {
   "cell_type": "code",
   "execution_count": 63,
   "id": "1336d524",
   "metadata": {},
   "outputs": [
    {
     "data": {
      "text/html": [
       "<div>\n",
       "<style scoped>\n",
       "    .dataframe tbody tr th:only-of-type {\n",
       "        vertical-align: middle;\n",
       "    }\n",
       "\n",
       "    .dataframe tbody tr th {\n",
       "        vertical-align: top;\n",
       "    }\n",
       "\n",
       "    .dataframe thead th {\n",
       "        text-align: right;\n",
       "    }\n",
       "</style>\n",
       "<table border=\"1\" class=\"dataframe\">\n",
       "  <thead>\n",
       "    <tr style=\"text-align: right;\">\n",
       "      <th></th>\n",
       "      <th>Apples</th>\n",
       "      <th>Bananas</th>\n",
       "      <th>Mango</th>\n",
       "      <th>Watermelon</th>\n",
       "      <th>Country</th>\n",
       "    </tr>\n",
       "  </thead>\n",
       "  <tbody>\n",
       "    <tr>\n",
       "      <th>2</th>\n",
       "      <td>40</td>\n",
       "      <td>37</td>\n",
       "      <td>21</td>\n",
       "      <td>NaN</td>\n",
       "      <td>Africa</td>\n",
       "    </tr>\n",
       "    <tr>\n",
       "      <th>4</th>\n",
       "      <td>76</td>\n",
       "      <td>54</td>\n",
       "      <td>23</td>\n",
       "      <td>NaN</td>\n",
       "      <td>UAE</td>\n",
       "    </tr>\n",
       "  </tbody>\n",
       "</table>\n",
       "</div>"
      ],
      "text/plain": [
       "   Apples  Bananas  Mango Watermelon Country\n",
       "2      40       37     21        NaN  Africa\n",
       "4      76       54     23        NaN     UAE"
      ]
     },
     "execution_count": 63,
     "metadata": {},
     "output_type": "execute_result"
    }
   ],
   "source": [
    "fruits[fruits.Watermelon=='NaN']"
   ]
  },
  {
   "cell_type": "code",
   "execution_count": 64,
   "id": "3bb21518",
   "metadata": {},
   "outputs": [
    {
     "data": {
      "text/plain": [
       "0     23\n",
       "1     54\n",
       "2    NaN\n",
       "3     53\n",
       "4    NaN\n",
       "5     23\n",
       "6     21\n",
       "7     43\n",
       "Name: Watermelon, dtype: object"
      ]
     },
     "execution_count": 64,
     "metadata": {},
     "output_type": "execute_result"
    }
   ],
   "source": [
    "fruits['Watermelon']"
   ]
  },
  {
   "cell_type": "code",
   "execution_count": 65,
   "id": "f97c8cf2",
   "metadata": {},
   "outputs": [
    {
     "data": {
      "text/plain": [
       "0    23\n",
       "1    54\n",
       "2    23\n",
       "3    53\n",
       "4    23\n",
       "5    23\n",
       "6    21\n",
       "7    43\n",
       "Name: Watermelon, dtype: int64"
      ]
     },
     "execution_count": 65,
     "metadata": {},
     "output_type": "execute_result"
    }
   ],
   "source": [
    "#Replace\n",
    "fruits.Watermelon.replace('NaN',23)"
   ]
  },
  {
   "cell_type": "markdown",
   "id": "9030ee8c",
   "metadata": {},
   "source": [
    "## Renaming and Combining"
   ]
  },
  {
   "cell_type": "code",
   "execution_count": 66,
   "id": "6c26ddd3",
   "metadata": {},
   "outputs": [],
   "source": [
    "import pandas as pd\n",
    "import numpy as np"
   ]
  },
  {
   "cell_type": "code",
   "execution_count": 67,
   "id": "d033f14b",
   "metadata": {},
   "outputs": [
    {
     "data": {
      "text/html": [
       "<div>\n",
       "<style scoped>\n",
       "    .dataframe tbody tr th:only-of-type {\n",
       "        vertical-align: middle;\n",
       "    }\n",
       "\n",
       "    .dataframe tbody tr th {\n",
       "        vertical-align: top;\n",
       "    }\n",
       "\n",
       "    .dataframe thead th {\n",
       "        text-align: right;\n",
       "    }\n",
       "</style>\n",
       "<table border=\"1\" class=\"dataframe\">\n",
       "  <thead>\n",
       "    <tr style=\"text-align: right;\">\n",
       "      <th></th>\n",
       "      <th>Apples</th>\n",
       "      <th>Bananas</th>\n",
       "      <th>Mango</th>\n",
       "      <th>Watermelon</th>\n",
       "      <th>Country</th>\n",
       "    </tr>\n",
       "  </thead>\n",
       "  <tbody>\n",
       "    <tr>\n",
       "      <th>0</th>\n",
       "      <td>30</td>\n",
       "      <td>21</td>\n",
       "      <td>30</td>\n",
       "      <td>23</td>\n",
       "      <td>India</td>\n",
       "    </tr>\n",
       "    <tr>\n",
       "      <th>1</th>\n",
       "      <td>20</td>\n",
       "      <td>25</td>\n",
       "      <td>34</td>\n",
       "      <td>54</td>\n",
       "      <td>Qatar</td>\n",
       "    </tr>\n",
       "    <tr>\n",
       "      <th>2</th>\n",
       "      <td>40</td>\n",
       "      <td>37</td>\n",
       "      <td>21</td>\n",
       "      <td>NaN</td>\n",
       "      <td>Africa</td>\n",
       "    </tr>\n",
       "    <tr>\n",
       "      <th>3</th>\n",
       "      <td>67</td>\n",
       "      <td>32</td>\n",
       "      <td>45</td>\n",
       "      <td>53</td>\n",
       "      <td>India</td>\n",
       "    </tr>\n",
       "    <tr>\n",
       "      <th>4</th>\n",
       "      <td>76</td>\n",
       "      <td>54</td>\n",
       "      <td>23</td>\n",
       "      <td>NaN</td>\n",
       "      <td>UAE</td>\n",
       "    </tr>\n",
       "    <tr>\n",
       "      <th>5</th>\n",
       "      <td>34</td>\n",
       "      <td>32</td>\n",
       "      <td>65</td>\n",
       "      <td>23</td>\n",
       "      <td>France</td>\n",
       "    </tr>\n",
       "    <tr>\n",
       "      <th>6</th>\n",
       "      <td>65</td>\n",
       "      <td>12</td>\n",
       "      <td>76</td>\n",
       "      <td>21</td>\n",
       "      <td>Srilanka</td>\n",
       "    </tr>\n",
       "    <tr>\n",
       "      <th>7</th>\n",
       "      <td>22</td>\n",
       "      <td>32</td>\n",
       "      <td>12</td>\n",
       "      <td>43</td>\n",
       "      <td>Pakistan</td>\n",
       "    </tr>\n",
       "  </tbody>\n",
       "</table>\n",
       "</div>"
      ],
      "text/plain": [
       "   Apples  Bananas  Mango Watermelon   Country\n",
       "0      30       21     30         23     India\n",
       "1      20       25     34         54     Qatar\n",
       "2      40       37     21        NaN    Africa\n",
       "3      67       32     45         53     India\n",
       "4      76       54     23        NaN       UAE\n",
       "5      34       32     65         23    France\n",
       "6      65       12     76         21  Srilanka\n",
       "7      22       32     12         43  Pakistan"
      ]
     },
     "execution_count": 67,
     "metadata": {},
     "output_type": "execute_result"
    }
   ],
   "source": [
    "fruits"
   ]
  },
  {
   "cell_type": "markdown",
   "id": "5cd7cbc9",
   "metadata": {},
   "source": [
    "**Renaming - The first function we'll introduce here is rename(), which lets you change index names and/or column names.**"
   ]
  },
  {
   "cell_type": "code",
   "execution_count": 68,
   "id": "a36df00d",
   "metadata": {},
   "outputs": [
    {
     "data": {
      "text/html": [
       "<div>\n",
       "<style scoped>\n",
       "    .dataframe tbody tr th:only-of-type {\n",
       "        vertical-align: middle;\n",
       "    }\n",
       "\n",
       "    .dataframe tbody tr th {\n",
       "        vertical-align: top;\n",
       "    }\n",
       "\n",
       "    .dataframe thead th {\n",
       "        text-align: right;\n",
       "    }\n",
       "</style>\n",
       "<table border=\"1\" class=\"dataframe\">\n",
       "  <thead>\n",
       "    <tr style=\"text-align: right;\">\n",
       "      <th></th>\n",
       "      <th>Apples</th>\n",
       "      <th>Bananas</th>\n",
       "      <th>Mango</th>\n",
       "      <th>Strawberry</th>\n",
       "      <th>Country</th>\n",
       "    </tr>\n",
       "  </thead>\n",
       "  <tbody>\n",
       "    <tr>\n",
       "      <th>0</th>\n",
       "      <td>30</td>\n",
       "      <td>21</td>\n",
       "      <td>30</td>\n",
       "      <td>23</td>\n",
       "      <td>India</td>\n",
       "    </tr>\n",
       "    <tr>\n",
       "      <th>1</th>\n",
       "      <td>20</td>\n",
       "      <td>25</td>\n",
       "      <td>34</td>\n",
       "      <td>54</td>\n",
       "      <td>Qatar</td>\n",
       "    </tr>\n",
       "    <tr>\n",
       "      <th>2</th>\n",
       "      <td>40</td>\n",
       "      <td>37</td>\n",
       "      <td>21</td>\n",
       "      <td>NaN</td>\n",
       "      <td>Africa</td>\n",
       "    </tr>\n",
       "    <tr>\n",
       "      <th>3</th>\n",
       "      <td>67</td>\n",
       "      <td>32</td>\n",
       "      <td>45</td>\n",
       "      <td>53</td>\n",
       "      <td>India</td>\n",
       "    </tr>\n",
       "    <tr>\n",
       "      <th>4</th>\n",
       "      <td>76</td>\n",
       "      <td>54</td>\n",
       "      <td>23</td>\n",
       "      <td>NaN</td>\n",
       "      <td>UAE</td>\n",
       "    </tr>\n",
       "    <tr>\n",
       "      <th>5</th>\n",
       "      <td>34</td>\n",
       "      <td>32</td>\n",
       "      <td>65</td>\n",
       "      <td>23</td>\n",
       "      <td>France</td>\n",
       "    </tr>\n",
       "    <tr>\n",
       "      <th>6</th>\n",
       "      <td>65</td>\n",
       "      <td>12</td>\n",
       "      <td>76</td>\n",
       "      <td>21</td>\n",
       "      <td>Srilanka</td>\n",
       "    </tr>\n",
       "    <tr>\n",
       "      <th>7</th>\n",
       "      <td>22</td>\n",
       "      <td>32</td>\n",
       "      <td>12</td>\n",
       "      <td>43</td>\n",
       "      <td>Pakistan</td>\n",
       "    </tr>\n",
       "  </tbody>\n",
       "</table>\n",
       "</div>"
      ],
      "text/plain": [
       "   Apples  Bananas  Mango Strawberry   Country\n",
       "0      30       21     30         23     India\n",
       "1      20       25     34         54     Qatar\n",
       "2      40       37     21        NaN    Africa\n",
       "3      67       32     45         53     India\n",
       "4      76       54     23        NaN       UAE\n",
       "5      34       32     65         23    France\n",
       "6      65       12     76         21  Srilanka\n",
       "7      22       32     12         43  Pakistan"
      ]
     },
     "execution_count": 68,
     "metadata": {},
     "output_type": "execute_result"
    }
   ],
   "source": [
    "fruits.rename(columns={'Watermelon':'Strawberry'}) #this will create a new data frame but wont change in original datafram"
   ]
  },
  {
   "cell_type": "code",
   "execution_count": 69,
   "id": "bcecb2c2",
   "metadata": {},
   "outputs": [
    {
     "data": {
      "text/html": [
       "<div>\n",
       "<style scoped>\n",
       "    .dataframe tbody tr th:only-of-type {\n",
       "        vertical-align: middle;\n",
       "    }\n",
       "\n",
       "    .dataframe tbody tr th {\n",
       "        vertical-align: top;\n",
       "    }\n",
       "\n",
       "    .dataframe thead th {\n",
       "        text-align: right;\n",
       "    }\n",
       "</style>\n",
       "<table border=\"1\" class=\"dataframe\">\n",
       "  <thead>\n",
       "    <tr style=\"text-align: right;\">\n",
       "      <th></th>\n",
       "      <th>Apples</th>\n",
       "      <th>Bananas</th>\n",
       "      <th>Mango</th>\n",
       "      <th>Strawberry</th>\n",
       "      <th>Country</th>\n",
       "    </tr>\n",
       "  </thead>\n",
       "  <tbody>\n",
       "    <tr>\n",
       "      <th>0</th>\n",
       "      <td>30</td>\n",
       "      <td>21</td>\n",
       "      <td>30</td>\n",
       "      <td>23</td>\n",
       "      <td>India</td>\n",
       "    </tr>\n",
       "    <tr>\n",
       "      <th>1</th>\n",
       "      <td>20</td>\n",
       "      <td>25</td>\n",
       "      <td>34</td>\n",
       "      <td>54</td>\n",
       "      <td>Qatar</td>\n",
       "    </tr>\n",
       "    <tr>\n",
       "      <th>2</th>\n",
       "      <td>40</td>\n",
       "      <td>37</td>\n",
       "      <td>21</td>\n",
       "      <td>NaN</td>\n",
       "      <td>Africa</td>\n",
       "    </tr>\n",
       "    <tr>\n",
       "      <th>3</th>\n",
       "      <td>67</td>\n",
       "      <td>32</td>\n",
       "      <td>45</td>\n",
       "      <td>53</td>\n",
       "      <td>India</td>\n",
       "    </tr>\n",
       "    <tr>\n",
       "      <th>4</th>\n",
       "      <td>76</td>\n",
       "      <td>54</td>\n",
       "      <td>23</td>\n",
       "      <td>NaN</td>\n",
       "      <td>UAE</td>\n",
       "    </tr>\n",
       "    <tr>\n",
       "      <th>5</th>\n",
       "      <td>34</td>\n",
       "      <td>32</td>\n",
       "      <td>65</td>\n",
       "      <td>23</td>\n",
       "      <td>France</td>\n",
       "    </tr>\n",
       "    <tr>\n",
       "      <th>6</th>\n",
       "      <td>65</td>\n",
       "      <td>12</td>\n",
       "      <td>76</td>\n",
       "      <td>21</td>\n",
       "      <td>Srilanka</td>\n",
       "    </tr>\n",
       "    <tr>\n",
       "      <th>7</th>\n",
       "      <td>22</td>\n",
       "      <td>32</td>\n",
       "      <td>12</td>\n",
       "      <td>43</td>\n",
       "      <td>Pakistan</td>\n",
       "    </tr>\n",
       "  </tbody>\n",
       "</table>\n",
       "</div>"
      ],
      "text/plain": [
       "   Apples  Bananas  Mango Strawberry   Country\n",
       "0      30       21     30         23     India\n",
       "1      20       25     34         54     Qatar\n",
       "2      40       37     21        NaN    Africa\n",
       "3      67       32     45         53     India\n",
       "4      76       54     23        NaN       UAE\n",
       "5      34       32     65         23    France\n",
       "6      65       12     76         21  Srilanka\n",
       "7      22       32     12         43  Pakistan"
      ]
     },
     "execution_count": 69,
     "metadata": {},
     "output_type": "execute_result"
    }
   ],
   "source": [
    "#to do so\n",
    "fruits = fruits.rename(columns={'Watermelon':'Strawberry'})\n",
    "fruits"
   ]
  },
  {
   "cell_type": "code",
   "execution_count": 70,
   "id": "fcb66c9d",
   "metadata": {},
   "outputs": [],
   "source": [
    "fruits = fruits.rename(index={0:'Count1',1:'Count2'})"
   ]
  },
  {
   "cell_type": "code",
   "execution_count": 71,
   "id": "1a0e765e",
   "metadata": {},
   "outputs": [
    {
     "data": {
      "text/html": [
       "<div>\n",
       "<style scoped>\n",
       "    .dataframe tbody tr th:only-of-type {\n",
       "        vertical-align: middle;\n",
       "    }\n",
       "\n",
       "    .dataframe tbody tr th {\n",
       "        vertical-align: top;\n",
       "    }\n",
       "\n",
       "    .dataframe thead th {\n",
       "        text-align: right;\n",
       "    }\n",
       "</style>\n",
       "<table border=\"1\" class=\"dataframe\">\n",
       "  <thead>\n",
       "    <tr style=\"text-align: right;\">\n",
       "      <th></th>\n",
       "      <th>Apples</th>\n",
       "      <th>Bananas</th>\n",
       "      <th>Mango</th>\n",
       "      <th>Strawberry</th>\n",
       "      <th>Country</th>\n",
       "    </tr>\n",
       "  </thead>\n",
       "  <tbody>\n",
       "    <tr>\n",
       "      <th>Count1</th>\n",
       "      <td>30</td>\n",
       "      <td>21</td>\n",
       "      <td>30</td>\n",
       "      <td>23</td>\n",
       "      <td>India</td>\n",
       "    </tr>\n",
       "    <tr>\n",
       "      <th>Count2</th>\n",
       "      <td>20</td>\n",
       "      <td>25</td>\n",
       "      <td>34</td>\n",
       "      <td>54</td>\n",
       "      <td>Qatar</td>\n",
       "    </tr>\n",
       "    <tr>\n",
       "      <th>2</th>\n",
       "      <td>40</td>\n",
       "      <td>37</td>\n",
       "      <td>21</td>\n",
       "      <td>NaN</td>\n",
       "      <td>Africa</td>\n",
       "    </tr>\n",
       "    <tr>\n",
       "      <th>3</th>\n",
       "      <td>67</td>\n",
       "      <td>32</td>\n",
       "      <td>45</td>\n",
       "      <td>53</td>\n",
       "      <td>India</td>\n",
       "    </tr>\n",
       "    <tr>\n",
       "      <th>4</th>\n",
       "      <td>76</td>\n",
       "      <td>54</td>\n",
       "      <td>23</td>\n",
       "      <td>NaN</td>\n",
       "      <td>UAE</td>\n",
       "    </tr>\n",
       "    <tr>\n",
       "      <th>5</th>\n",
       "      <td>34</td>\n",
       "      <td>32</td>\n",
       "      <td>65</td>\n",
       "      <td>23</td>\n",
       "      <td>France</td>\n",
       "    </tr>\n",
       "    <tr>\n",
       "      <th>6</th>\n",
       "      <td>65</td>\n",
       "      <td>12</td>\n",
       "      <td>76</td>\n",
       "      <td>21</td>\n",
       "      <td>Srilanka</td>\n",
       "    </tr>\n",
       "    <tr>\n",
       "      <th>7</th>\n",
       "      <td>22</td>\n",
       "      <td>32</td>\n",
       "      <td>12</td>\n",
       "      <td>43</td>\n",
       "      <td>Pakistan</td>\n",
       "    </tr>\n",
       "  </tbody>\n",
       "</table>\n",
       "</div>"
      ],
      "text/plain": [
       "        Apples  Bananas  Mango Strawberry   Country\n",
       "Count1      30       21     30         23     India\n",
       "Count2      20       25     34         54     Qatar\n",
       "2           40       37     21        NaN    Africa\n",
       "3           67       32     45         53     India\n",
       "4           76       54     23        NaN       UAE\n",
       "5           34       32     65         23    France\n",
       "6           65       12     76         21  Srilanka\n",
       "7           22       32     12         43  Pakistan"
      ]
     },
     "execution_count": 71,
     "metadata": {},
     "output_type": "execute_result"
    }
   ],
   "source": [
    "fruits"
   ]
  },
  {
   "cell_type": "markdown",
   "id": "f24bdcf6",
   "metadata": {},
   "source": [
    "**Note: You'll probably rename columns very often, but rename index values very rarely. For that, set_index() is usually more convenient.**"
   ]
  },
  {
   "cell_type": "markdown",
   "id": "9493a9da",
   "metadata": {},
   "source": [
    "**Both the row index and the column index can have their own name attribute. The complimentary rename_axis() method may be used to change these names. \n",
    "For example:**"
   ]
  },
  {
   "cell_type": "code",
   "execution_count": 72,
   "id": "cd3ebfc7",
   "metadata": {},
   "outputs": [
    {
     "data": {
      "text/html": [
       "<div>\n",
       "<style scoped>\n",
       "    .dataframe tbody tr th:only-of-type {\n",
       "        vertical-align: middle;\n",
       "    }\n",
       "\n",
       "    .dataframe tbody tr th {\n",
       "        vertical-align: top;\n",
       "    }\n",
       "\n",
       "    .dataframe thead th {\n",
       "        text-align: right;\n",
       "    }\n",
       "</style>\n",
       "<table border=\"1\" class=\"dataframe\">\n",
       "  <thead>\n",
       "    <tr style=\"text-align: right;\">\n",
       "      <th></th>\n",
       "      <th>Apples</th>\n",
       "      <th>Bananas</th>\n",
       "      <th>Mango</th>\n",
       "      <th>Strawberry</th>\n",
       "      <th>Country</th>\n",
       "    </tr>\n",
       "  </thead>\n",
       "  <tbody>\n",
       "    <tr>\n",
       "      <th>Count1</th>\n",
       "      <td>30</td>\n",
       "      <td>21</td>\n",
       "      <td>30</td>\n",
       "      <td>23</td>\n",
       "      <td>India</td>\n",
       "    </tr>\n",
       "    <tr>\n",
       "      <th>Count2</th>\n",
       "      <td>20</td>\n",
       "      <td>25</td>\n",
       "      <td>34</td>\n",
       "      <td>54</td>\n",
       "      <td>Qatar</td>\n",
       "    </tr>\n",
       "    <tr>\n",
       "      <th>2</th>\n",
       "      <td>40</td>\n",
       "      <td>37</td>\n",
       "      <td>21</td>\n",
       "      <td>NaN</td>\n",
       "      <td>Africa</td>\n",
       "    </tr>\n",
       "    <tr>\n",
       "      <th>3</th>\n",
       "      <td>67</td>\n",
       "      <td>32</td>\n",
       "      <td>45</td>\n",
       "      <td>53</td>\n",
       "      <td>India</td>\n",
       "    </tr>\n",
       "    <tr>\n",
       "      <th>4</th>\n",
       "      <td>76</td>\n",
       "      <td>54</td>\n",
       "      <td>23</td>\n",
       "      <td>NaN</td>\n",
       "      <td>UAE</td>\n",
       "    </tr>\n",
       "    <tr>\n",
       "      <th>5</th>\n",
       "      <td>34</td>\n",
       "      <td>32</td>\n",
       "      <td>65</td>\n",
       "      <td>23</td>\n",
       "      <td>France</td>\n",
       "    </tr>\n",
       "    <tr>\n",
       "      <th>6</th>\n",
       "      <td>65</td>\n",
       "      <td>12</td>\n",
       "      <td>76</td>\n",
       "      <td>21</td>\n",
       "      <td>Srilanka</td>\n",
       "    </tr>\n",
       "    <tr>\n",
       "      <th>7</th>\n",
       "      <td>22</td>\n",
       "      <td>32</td>\n",
       "      <td>12</td>\n",
       "      <td>43</td>\n",
       "      <td>Pakistan</td>\n",
       "    </tr>\n",
       "  </tbody>\n",
       "</table>\n",
       "</div>"
      ],
      "text/plain": [
       "        Apples  Bananas  Mango Strawberry   Country\n",
       "Count1      30       21     30         23     India\n",
       "Count2      20       25     34         54     Qatar\n",
       "2           40       37     21        NaN    Africa\n",
       "3           67       32     45         53     India\n",
       "4           76       54     23        NaN       UAE\n",
       "5           34       32     65         23    France\n",
       "6           65       12     76         21  Srilanka\n",
       "7           22       32     12         43  Pakistan"
      ]
     },
     "execution_count": 72,
     "metadata": {},
     "output_type": "execute_result"
    }
   ],
   "source": [
    "fruits"
   ]
  },
  {
   "cell_type": "code",
   "execution_count": 73,
   "id": "d8dfca40",
   "metadata": {},
   "outputs": [
    {
     "data": {
      "text/html": [
       "<div>\n",
       "<style scoped>\n",
       "    .dataframe tbody tr th:only-of-type {\n",
       "        vertical-align: middle;\n",
       "    }\n",
       "\n",
       "    .dataframe tbody tr th {\n",
       "        vertical-align: top;\n",
       "    }\n",
       "\n",
       "    .dataframe thead th {\n",
       "        text-align: right;\n",
       "    }\n",
       "</style>\n",
       "<table border=\"1\" class=\"dataframe\">\n",
       "  <thead>\n",
       "    <tr style=\"text-align: right;\">\n",
       "      <th>MyFruits</th>\n",
       "      <th>Apples</th>\n",
       "      <th>Bananas</th>\n",
       "      <th>Mango</th>\n",
       "      <th>Strawberry</th>\n",
       "      <th>Country</th>\n",
       "    </tr>\n",
       "    <tr>\n",
       "      <th>Data</th>\n",
       "      <th></th>\n",
       "      <th></th>\n",
       "      <th></th>\n",
       "      <th></th>\n",
       "      <th></th>\n",
       "    </tr>\n",
       "  </thead>\n",
       "  <tbody>\n",
       "    <tr>\n",
       "      <th>Count1</th>\n",
       "      <td>30</td>\n",
       "      <td>21</td>\n",
       "      <td>30</td>\n",
       "      <td>23</td>\n",
       "      <td>India</td>\n",
       "    </tr>\n",
       "    <tr>\n",
       "      <th>Count2</th>\n",
       "      <td>20</td>\n",
       "      <td>25</td>\n",
       "      <td>34</td>\n",
       "      <td>54</td>\n",
       "      <td>Qatar</td>\n",
       "    </tr>\n",
       "    <tr>\n",
       "      <th>2</th>\n",
       "      <td>40</td>\n",
       "      <td>37</td>\n",
       "      <td>21</td>\n",
       "      <td>NaN</td>\n",
       "      <td>Africa</td>\n",
       "    </tr>\n",
       "    <tr>\n",
       "      <th>3</th>\n",
       "      <td>67</td>\n",
       "      <td>32</td>\n",
       "      <td>45</td>\n",
       "      <td>53</td>\n",
       "      <td>India</td>\n",
       "    </tr>\n",
       "    <tr>\n",
       "      <th>4</th>\n",
       "      <td>76</td>\n",
       "      <td>54</td>\n",
       "      <td>23</td>\n",
       "      <td>NaN</td>\n",
       "      <td>UAE</td>\n",
       "    </tr>\n",
       "    <tr>\n",
       "      <th>5</th>\n",
       "      <td>34</td>\n",
       "      <td>32</td>\n",
       "      <td>65</td>\n",
       "      <td>23</td>\n",
       "      <td>France</td>\n",
       "    </tr>\n",
       "    <tr>\n",
       "      <th>6</th>\n",
       "      <td>65</td>\n",
       "      <td>12</td>\n",
       "      <td>76</td>\n",
       "      <td>21</td>\n",
       "      <td>Srilanka</td>\n",
       "    </tr>\n",
       "    <tr>\n",
       "      <th>7</th>\n",
       "      <td>22</td>\n",
       "      <td>32</td>\n",
       "      <td>12</td>\n",
       "      <td>43</td>\n",
       "      <td>Pakistan</td>\n",
       "    </tr>\n",
       "  </tbody>\n",
       "</table>\n",
       "</div>"
      ],
      "text/plain": [
       "MyFruits  Apples  Bananas  Mango Strawberry   Country\n",
       "Data                                                 \n",
       "Count1        30       21     30         23     India\n",
       "Count2        20       25     34         54     Qatar\n",
       "2             40       37     21        NaN    Africa\n",
       "3             67       32     45         53     India\n",
       "4             76       54     23        NaN       UAE\n",
       "5             34       32     65         23    France\n",
       "6             65       12     76         21  Srilanka\n",
       "7             22       32     12         43  Pakistan"
      ]
     },
     "execution_count": 73,
     "metadata": {},
     "output_type": "execute_result"
    }
   ],
   "source": [
    "fruits= fruits.rename_axis(\"Data\", axis='rows').rename_axis(\"MyFruits\", axis='columns')\n",
    "fruits"
   ]
  },
  {
   "cell_type": "markdown",
   "id": "b1ad3b49",
   "metadata": {},
   "source": [
    "## Combining\n",
    "\n",
    "**When performing operations on a dataset, we will sometimes need to combine different DataFrames and/or Series in non-trivial ways. Pandas has 2 core methods for doing this. In order of increasing complexity, these are concat() & join()**"
   ]
  },
  {
   "cell_type": "markdown",
   "id": "1988253a",
   "metadata": {},
   "source": [
    "## convert dataframe into numpyarray or dictionaries"
   ]
  },
  {
   "cell_type": "code",
   "execution_count": 74,
   "id": "841a25df",
   "metadata": {},
   "outputs": [],
   "source": [
    "import pandas as pd"
   ]
  },
  {
   "cell_type": "code",
   "execution_count": 75,
   "id": "4bc2fabf",
   "metadata": {},
   "outputs": [
    {
     "data": {
      "text/html": [
       "<div>\n",
       "<style scoped>\n",
       "    .dataframe tbody tr th:only-of-type {\n",
       "        vertical-align: middle;\n",
       "    }\n",
       "\n",
       "    .dataframe tbody tr th {\n",
       "        vertical-align: top;\n",
       "    }\n",
       "\n",
       "    .dataframe thead th {\n",
       "        text-align: right;\n",
       "    }\n",
       "</style>\n",
       "<table border=\"1\" class=\"dataframe\">\n",
       "  <thead>\n",
       "    <tr style=\"text-align: right;\">\n",
       "      <th>MyFruits</th>\n",
       "      <th>Apples</th>\n",
       "      <th>Bananas</th>\n",
       "      <th>Mango</th>\n",
       "      <th>Strawberry</th>\n",
       "      <th>Country</th>\n",
       "    </tr>\n",
       "    <tr>\n",
       "      <th>Data</th>\n",
       "      <th></th>\n",
       "      <th></th>\n",
       "      <th></th>\n",
       "      <th></th>\n",
       "      <th></th>\n",
       "    </tr>\n",
       "  </thead>\n",
       "  <tbody>\n",
       "    <tr>\n",
       "      <th>Count1</th>\n",
       "      <td>30</td>\n",
       "      <td>21</td>\n",
       "      <td>30</td>\n",
       "      <td>23</td>\n",
       "      <td>India</td>\n",
       "    </tr>\n",
       "    <tr>\n",
       "      <th>Count2</th>\n",
       "      <td>20</td>\n",
       "      <td>25</td>\n",
       "      <td>34</td>\n",
       "      <td>54</td>\n",
       "      <td>Qatar</td>\n",
       "    </tr>\n",
       "    <tr>\n",
       "      <th>2</th>\n",
       "      <td>40</td>\n",
       "      <td>37</td>\n",
       "      <td>21</td>\n",
       "      <td>NaN</td>\n",
       "      <td>Africa</td>\n",
       "    </tr>\n",
       "    <tr>\n",
       "      <th>3</th>\n",
       "      <td>67</td>\n",
       "      <td>32</td>\n",
       "      <td>45</td>\n",
       "      <td>53</td>\n",
       "      <td>India</td>\n",
       "    </tr>\n",
       "    <tr>\n",
       "      <th>4</th>\n",
       "      <td>76</td>\n",
       "      <td>54</td>\n",
       "      <td>23</td>\n",
       "      <td>NaN</td>\n",
       "      <td>UAE</td>\n",
       "    </tr>\n",
       "    <tr>\n",
       "      <th>5</th>\n",
       "      <td>34</td>\n",
       "      <td>32</td>\n",
       "      <td>65</td>\n",
       "      <td>23</td>\n",
       "      <td>France</td>\n",
       "    </tr>\n",
       "    <tr>\n",
       "      <th>6</th>\n",
       "      <td>65</td>\n",
       "      <td>12</td>\n",
       "      <td>76</td>\n",
       "      <td>21</td>\n",
       "      <td>Srilanka</td>\n",
       "    </tr>\n",
       "    <tr>\n",
       "      <th>7</th>\n",
       "      <td>22</td>\n",
       "      <td>32</td>\n",
       "      <td>12</td>\n",
       "      <td>43</td>\n",
       "      <td>Pakistan</td>\n",
       "    </tr>\n",
       "  </tbody>\n",
       "</table>\n",
       "</div>"
      ],
      "text/plain": [
       "MyFruits  Apples  Bananas  Mango Strawberry   Country\n",
       "Data                                                 \n",
       "Count1        30       21     30         23     India\n",
       "Count2        20       25     34         54     Qatar\n",
       "2             40       37     21        NaN    Africa\n",
       "3             67       32     45         53     India\n",
       "4             76       54     23        NaN       UAE\n",
       "5             34       32     65         23    France\n",
       "6             65       12     76         21  Srilanka\n",
       "7             22       32     12         43  Pakistan"
      ]
     },
     "execution_count": 75,
     "metadata": {},
     "output_type": "execute_result"
    }
   ],
   "source": [
    "fruits #this is the data frame"
   ]
  },
  {
   "cell_type": "code",
   "execution_count": 76,
   "id": "c450c30e",
   "metadata": {},
   "outputs": [
    {
     "data": {
      "text/plain": [
       "array([[30, 21, 30, 23, 'India'],\n",
       "       [20, 25, 34, 54, 'Qatar'],\n",
       "       [40, 37, 21, 'NaN', 'Africa'],\n",
       "       [67, 32, 45, 53, 'India'],\n",
       "       [76, 54, 23, 'NaN', 'UAE'],\n",
       "       [34, 32, 65, 23, 'France'],\n",
       "       [65, 12, 76, 21, 'Srilanka'],\n",
       "       [22, 32, 12, 43, 'Pakistan']], dtype=object)"
      ]
     },
     "execution_count": 76,
     "metadata": {},
     "output_type": "execute_result"
    }
   ],
   "source": [
    "fruits.to_numpy() #converting dataframe to numpy array"
   ]
  },
  {
   "cell_type": "code",
   "execution_count": 77,
   "id": "2f7c073f",
   "metadata": {},
   "outputs": [
    {
     "data": {
      "text/plain": [
       "{'Apples': {'Count1': 30,\n",
       "  'Count2': 20,\n",
       "  2: 40,\n",
       "  3: 67,\n",
       "  4: 76,\n",
       "  5: 34,\n",
       "  6: 65,\n",
       "  7: 22},\n",
       " 'Bananas': {'Count1': 21,\n",
       "  'Count2': 25,\n",
       "  2: 37,\n",
       "  3: 32,\n",
       "  4: 54,\n",
       "  5: 32,\n",
       "  6: 12,\n",
       "  7: 32},\n",
       " 'Mango': {'Count1': 30,\n",
       "  'Count2': 34,\n",
       "  2: 21,\n",
       "  3: 45,\n",
       "  4: 23,\n",
       "  5: 65,\n",
       "  6: 76,\n",
       "  7: 12},\n",
       " 'Strawberry': {'Count1': 23,\n",
       "  'Count2': 54,\n",
       "  2: 'NaN',\n",
       "  3: 53,\n",
       "  4: 'NaN',\n",
       "  5: 23,\n",
       "  6: 21,\n",
       "  7: 43},\n",
       " 'Country': {'Count1': 'India',\n",
       "  'Count2': 'Qatar',\n",
       "  2: 'Africa',\n",
       "  3: 'India',\n",
       "  4: 'UAE',\n",
       "  5: 'France',\n",
       "  6: 'Srilanka',\n",
       "  7: 'Pakistan'}}"
      ]
     },
     "execution_count": 77,
     "metadata": {},
     "output_type": "execute_result"
    }
   ],
   "source": [
    "fruits.to_dict() #converting dataframe to dictionary"
   ]
  },
  {
   "cell_type": "markdown",
   "id": "8a2f39c2",
   "metadata": {},
   "source": [
    "## Exporting pandas Dataframe to CSV and Excel file"
   ]
  },
  {
   "cell_type": "code",
   "execution_count": 78,
   "id": "43d6bc3c",
   "metadata": {},
   "outputs": [],
   "source": [
    "#dataframe to CSV, index=False as you dont want the dataframe index\n",
    "fruits.to_csv(r\"C:\\Users\\n.rahman\\OneDrive - BALADNA\\Desktop\\BALADNA\\Online Courses\\LinkedIn Courses\\Export to CSV.xlsx.csv\",index=False)"
   ]
  },
  {
   "cell_type": "code",
   "execution_count": 79,
   "id": "af6ea030",
   "metadata": {},
   "outputs": [],
   "source": [
    "#dataframe to Excel, index=False as you dont want the dataframe index\n",
    "fruits.to_excel(r\"C:\\Users\\n.rahman\\OneDrive - BALADNA\\Desktop\\BALADNA\\Online Courses\\LinkedIn Courses\\Export to Excel.xlsx\",index =False)"
   ]
  },
  {
   "cell_type": "code",
   "execution_count": 80,
   "id": "1d2d55e7",
   "metadata": {},
   "outputs": [
    {
     "data": {
      "text/html": [
       "<div>\n",
       "<style scoped>\n",
       "    .dataframe tbody tr th:only-of-type {\n",
       "        vertical-align: middle;\n",
       "    }\n",
       "\n",
       "    .dataframe tbody tr th {\n",
       "        vertical-align: top;\n",
       "    }\n",
       "\n",
       "    .dataframe thead th {\n",
       "        text-align: right;\n",
       "    }\n",
       "</style>\n",
       "<table border=\"1\" class=\"dataframe\">\n",
       "  <thead>\n",
       "    <tr style=\"text-align: right;\">\n",
       "      <th>MyFruits</th>\n",
       "      <th>Apples</th>\n",
       "      <th>Bananas</th>\n",
       "      <th>Mango</th>\n",
       "      <th>Strawberry</th>\n",
       "      <th>Country</th>\n",
       "    </tr>\n",
       "    <tr>\n",
       "      <th>Data</th>\n",
       "      <th></th>\n",
       "      <th></th>\n",
       "      <th></th>\n",
       "      <th></th>\n",
       "      <th></th>\n",
       "    </tr>\n",
       "  </thead>\n",
       "  <tbody>\n",
       "    <tr>\n",
       "      <th>Count1</th>\n",
       "      <td>30</td>\n",
       "      <td>21</td>\n",
       "      <td>30</td>\n",
       "      <td>23</td>\n",
       "      <td>India</td>\n",
       "    </tr>\n",
       "    <tr>\n",
       "      <th>Count2</th>\n",
       "      <td>20</td>\n",
       "      <td>25</td>\n",
       "      <td>34</td>\n",
       "      <td>54</td>\n",
       "      <td>Qatar</td>\n",
       "    </tr>\n",
       "    <tr>\n",
       "      <th>2</th>\n",
       "      <td>40</td>\n",
       "      <td>37</td>\n",
       "      <td>21</td>\n",
       "      <td>NaN</td>\n",
       "      <td>Africa</td>\n",
       "    </tr>\n",
       "    <tr>\n",
       "      <th>3</th>\n",
       "      <td>67</td>\n",
       "      <td>32</td>\n",
       "      <td>45</td>\n",
       "      <td>53</td>\n",
       "      <td>India</td>\n",
       "    </tr>\n",
       "    <tr>\n",
       "      <th>4</th>\n",
       "      <td>76</td>\n",
       "      <td>54</td>\n",
       "      <td>23</td>\n",
       "      <td>NaN</td>\n",
       "      <td>UAE</td>\n",
       "    </tr>\n",
       "    <tr>\n",
       "      <th>5</th>\n",
       "      <td>34</td>\n",
       "      <td>32</td>\n",
       "      <td>65</td>\n",
       "      <td>23</td>\n",
       "      <td>France</td>\n",
       "    </tr>\n",
       "    <tr>\n",
       "      <th>6</th>\n",
       "      <td>65</td>\n",
       "      <td>12</td>\n",
       "      <td>76</td>\n",
       "      <td>21</td>\n",
       "      <td>Srilanka</td>\n",
       "    </tr>\n",
       "    <tr>\n",
       "      <th>7</th>\n",
       "      <td>22</td>\n",
       "      <td>32</td>\n",
       "      <td>12</td>\n",
       "      <td>43</td>\n",
       "      <td>Pakistan</td>\n",
       "    </tr>\n",
       "  </tbody>\n",
       "</table>\n",
       "</div>"
      ],
      "text/plain": [
       "MyFruits  Apples  Bananas  Mango Strawberry   Country\n",
       "Data                                                 \n",
       "Count1        30       21     30         23     India\n",
       "Count2        20       25     34         54     Qatar\n",
       "2             40       37     21        NaN    Africa\n",
       "3             67       32     45         53     India\n",
       "4             76       54     23        NaN       UAE\n",
       "5             34       32     65         23    France\n",
       "6             65       12     76         21  Srilanka\n",
       "7             22       32     12         43  Pakistan"
      ]
     },
     "execution_count": 80,
     "metadata": {},
     "output_type": "execute_result"
    }
   ],
   "source": [
    "fruits"
   ]
  },
  {
   "cell_type": "code",
   "execution_count": 81,
   "id": "29da87f3",
   "metadata": {},
   "outputs": [
    {
     "data": {
      "text/html": [
       "<div>\n",
       "<style scoped>\n",
       "    .dataframe tbody tr th:only-of-type {\n",
       "        vertical-align: middle;\n",
       "    }\n",
       "\n",
       "    .dataframe tbody tr th {\n",
       "        vertical-align: top;\n",
       "    }\n",
       "\n",
       "    .dataframe thead th {\n",
       "        text-align: right;\n",
       "    }\n",
       "</style>\n",
       "<table border=\"1\" class=\"dataframe\">\n",
       "  <thead>\n",
       "    <tr style=\"text-align: right;\">\n",
       "      <th></th>\n",
       "      <th>Name</th>\n",
       "      <th>Age</th>\n",
       "      <th>Profession</th>\n",
       "    </tr>\n",
       "  </thead>\n",
       "  <tbody>\n",
       "    <tr>\n",
       "      <th>ID1</th>\n",
       "      <td>Nabeel</td>\n",
       "      <td>34</td>\n",
       "      <td>Engineer</td>\n",
       "    </tr>\n",
       "    <tr>\n",
       "      <th>ID2</th>\n",
       "      <td>Maslaha</td>\n",
       "      <td>26</td>\n",
       "      <td>Optometrist</td>\n",
       "    </tr>\n",
       "    <tr>\n",
       "      <th>ID3</th>\n",
       "      <td>Nadeem</td>\n",
       "      <td>36</td>\n",
       "      <td>Doctor</td>\n",
       "    </tr>\n",
       "    <tr>\n",
       "      <th>ID4</th>\n",
       "      <td>Jasim</td>\n",
       "      <td>41</td>\n",
       "      <td>Engineer</td>\n",
       "    </tr>\n",
       "  </tbody>\n",
       "</table>\n",
       "</div>"
      ],
      "text/plain": [
       "        Name  Age   Profession\n",
       "ID1   Nabeel   34     Engineer\n",
       "ID2  Maslaha   26  Optometrist\n",
       "ID3   Nadeem   36       Doctor\n",
       "ID4    Jasim   41     Engineer"
      ]
     },
     "execution_count": 81,
     "metadata": {},
     "output_type": "execute_result"
    }
   ],
   "source": [
    "df"
   ]
  },
  {
   "cell_type": "markdown",
   "id": "8042bbcd",
   "metadata": {},
   "source": [
    "## USING PIVOT"
   ]
  },
  {
   "cell_type": "code",
   "execution_count": 83,
   "id": "7a94bb34",
   "metadata": {},
   "outputs": [
    {
     "data": {
      "text/html": [
       "<div>\n",
       "<style scoped>\n",
       "    .dataframe tbody tr th:only-of-type {\n",
       "        vertical-align: middle;\n",
       "    }\n",
       "\n",
       "    .dataframe tbody tr th {\n",
       "        vertical-align: top;\n",
       "    }\n",
       "\n",
       "    .dataframe thead tr th {\n",
       "        text-align: left;\n",
       "    }\n",
       "\n",
       "    .dataframe thead tr:last-of-type th {\n",
       "        text-align: right;\n",
       "    }\n",
       "</style>\n",
       "<table border=\"1\" class=\"dataframe\">\n",
       "  <thead>\n",
       "    <tr>\n",
       "      <th></th>\n",
       "      <th colspan=\"4\" halign=\"left\">Profession</th>\n",
       "    </tr>\n",
       "    <tr>\n",
       "      <th>Age</th>\n",
       "      <th>26</th>\n",
       "      <th>34</th>\n",
       "      <th>36</th>\n",
       "      <th>41</th>\n",
       "    </tr>\n",
       "    <tr>\n",
       "      <th>Name</th>\n",
       "      <th></th>\n",
       "      <th></th>\n",
       "      <th></th>\n",
       "      <th></th>\n",
       "    </tr>\n",
       "  </thead>\n",
       "  <tbody>\n",
       "    <tr>\n",
       "      <th>Jasim</th>\n",
       "      <td>NaN</td>\n",
       "      <td>NaN</td>\n",
       "      <td>NaN</td>\n",
       "      <td>Engineer</td>\n",
       "    </tr>\n",
       "    <tr>\n",
       "      <th>Maslaha</th>\n",
       "      <td>Optometrist</td>\n",
       "      <td>NaN</td>\n",
       "      <td>NaN</td>\n",
       "      <td>NaN</td>\n",
       "    </tr>\n",
       "    <tr>\n",
       "      <th>Nabeel</th>\n",
       "      <td>NaN</td>\n",
       "      <td>Engineer</td>\n",
       "      <td>NaN</td>\n",
       "      <td>NaN</td>\n",
       "    </tr>\n",
       "    <tr>\n",
       "      <th>Nadeem</th>\n",
       "      <td>NaN</td>\n",
       "      <td>NaN</td>\n",
       "      <td>Doctor</td>\n",
       "      <td>NaN</td>\n",
       "    </tr>\n",
       "  </tbody>\n",
       "</table>\n",
       "</div>"
      ],
      "text/plain": [
       "          Profession                            \n",
       "Age               26        34      36        41\n",
       "Name                                            \n",
       "Jasim            NaN       NaN     NaN  Engineer\n",
       "Maslaha  Optometrist       NaN     NaN       NaN\n",
       "Nabeel           NaN  Engineer     NaN       NaN\n",
       "Nadeem           NaN       NaN  Doctor       NaN"
      ]
     },
     "execution_count": 83,
     "metadata": {},
     "output_type": "execute_result"
    }
   ],
   "source": [
    "df.pivot(index='Name',columns='Age')"
   ]
  },
  {
   "cell_type": "code",
   "execution_count": null,
   "id": "14c95d6a",
   "metadata": {},
   "outputs": [],
   "source": []
  },
  {
   "cell_type": "code",
   "execution_count": null,
   "id": "8ed417ae",
   "metadata": {},
   "outputs": [],
   "source": []
  }
 ],
 "metadata": {
  "kernelspec": {
   "display_name": "Python 3 (ipykernel)",
   "language": "python",
   "name": "python3"
  },
  "language_info": {
   "codemirror_mode": {
    "name": "ipython",
    "version": 3
   },
   "file_extension": ".py",
   "mimetype": "text/x-python",
   "name": "python",
   "nbconvert_exporter": "python",
   "pygments_lexer": "ipython3",
   "version": "3.11.5"
  }
 },
 "nbformat": 4,
 "nbformat_minor": 5
}
